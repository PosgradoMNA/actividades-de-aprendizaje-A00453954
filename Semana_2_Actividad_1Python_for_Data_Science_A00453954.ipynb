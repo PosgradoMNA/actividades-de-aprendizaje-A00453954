{
  "cells": [
    {
      "cell_type": "markdown",
      "metadata": {
        "id": "view-in-github",
        "colab_type": "text"
      },
      "source": [
        "<a href=\"https://colab.research.google.com/github/PosgradoMNA/actividades-de-aprendizaje-A00453954/blob/main/Semana_2_Actividad_1Python_for_Data_Science_A00453954.ipynb\" target=\"_parent\"><img src=\"https://colab.research.google.com/assets/colab-badge.svg\" alt=\"Open In Colab\"/></a>"
      ]
    },
    {
      "cell_type": "code",
      "execution_count": null,
      "id": "3ae250c8",
      "metadata": {
        "id": "3ae250c8",
        "outputId": "8e63f46b-4924-429e-c115-b83abcd6a0ca"
      },
      "outputs": [
        {
          "name": "stdout",
          "output_type": "stream",
          "text": [
            " Volume in drive C is OSDisk\n",
            " Volume Serial Number is 12B3-4442\n",
            "\n",
            " Directory of C:\\Users\\LRIOSPIE\\CyDD\\IBM_Course\n",
            "\n",
            "24/09/2022  01:41 p. m.    <DIR>          .\n",
            "24/09/2022  01:41 p. m.    <DIR>          ..\n",
            "24/09/2022  01:26 p. m.    <DIR>          .ipynb_checkpoints\n",
            "16/09/2022  06:27 p. m.            20,125 A00453954_Act1_Mod1.ipynb\n",
            "24/09/2022  01:38 p. m.                 0 Example.txt\n",
            "24/09/2022  01:40 p. m.             2,223 Untitled.ipynb\n",
            "               3 File(s)         22,348 bytes\n",
            "               3 Dir(s)  155,280,056,320 bytes free\n"
          ]
        }
      ],
      "source": [
        "ls"
      ]
    },
    {
      "cell_type": "code",
      "execution_count": null,
      "id": "1996cfa8",
      "metadata": {
        "id": "1996cfa8"
      },
      "outputs": [],
      "source": [
        "File1=open(\"Example.txt\",\"r\")\n"
      ]
    },
    {
      "cell_type": "code",
      "execution_count": null,
      "id": "7dd640ac",
      "metadata": {
        "id": "7dd640ac"
      },
      "outputs": [],
      "source": [
        "File1.close()"
      ]
    },
    {
      "cell_type": "code",
      "execution_count": null,
      "id": "3d5146e0",
      "metadata": {
        "id": "3d5146e0",
        "outputId": "bbb09f03-99fc-4453-99d7-be04cdc6b387"
      },
      "outputs": [
        {
          "name": "stdout",
          "output_type": "stream",
          "text": [
            "Line1\n",
            "\n",
            "Line2\n"
          ]
        }
      ],
      "source": [
        "with open (\"Example.txt\",\"r\") as File2:\n",
        "    file_stuff=File2.readline()\n",
        "    print(file_stuff)\n",
        "    file_stuff=File2.readline()\n",
        "    print(file_stuff)"
      ]
    },
    {
      "cell_type": "code",
      "execution_count": null,
      "id": "70b35e8a",
      "metadata": {
        "id": "70b35e8a",
        "outputId": "046f5631-0a46-4100-cffc-25fb54efa293"
      },
      "outputs": [
        {
          "name": "stdout",
          "output_type": "stream",
          "text": [
            "Line1\n",
            "\n",
            "Line2\n"
          ]
        }
      ],
      "source": [
        "with open (\"Example.txt\",\"r\") as File3:\n",
        "    for line in File3:\n",
        "        print(line)"
      ]
    },
    {
      "cell_type": "code",
      "execution_count": null,
      "id": "05e684a3",
      "metadata": {
        "id": "05e684a3",
        "outputId": "b901700a-7a06-4845-9257-f3387ea415b1"
      },
      "outputs": [
        {
          "name": "stdout",
          "output_type": "stream",
          "text": [
            "Li\n"
          ]
        }
      ],
      "source": [
        "with open (\"Example.txt\",\"r\") as File4:\n",
        "    file_stuff=File4.readline(2)\n",
        "    print(file_stuff)"
      ]
    },
    {
      "cell_type": "code",
      "execution_count": null,
      "id": "0d00adc0",
      "metadata": {
        "id": "0d00adc0",
        "outputId": "d8eb383e-3ca3-40b6-d2b8-f05911d9586b"
      },
      "outputs": [
        {
          "name": "stdout",
          "output_type": "stream",
          "text": [
            "Li\n",
            "ne\n"
          ]
        }
      ],
      "source": [
        "with open (\"Example.txt\",\"r\") as File5:\n",
        "    file_stuff=File5.readline(2)\n",
        "    print(file_stuff)\n",
        "    file_stuff=File5.readline(2)\n",
        "    print(file_stuff)"
      ]
    },
    {
      "cell_type": "code",
      "execution_count": null,
      "id": "f9dd6d54",
      "metadata": {
        "id": "f9dd6d54"
      },
      "outputs": [],
      "source": [
        "file6=open(\"Example_2.txt\",\"w\")"
      ]
    },
    {
      "cell_type": "code",
      "execution_count": null,
      "id": "7dacd060",
      "metadata": {
        "id": "7dacd060"
      },
      "outputs": [],
      "source": [
        "file6.close()"
      ]
    },
    {
      "cell_type": "code",
      "execution_count": null,
      "id": "05f1bc94",
      "metadata": {
        "id": "05f1bc94",
        "outputId": "d6456829-62c8-475c-aa43-dd6c8c71e806"
      },
      "outputs": [
        {
          "name": "stdout",
          "output_type": "stream",
          "text": [
            " Volume in drive C is OSDisk\n",
            " Volume Serial Number is 12B3-4442\n",
            "\n",
            " Directory of C:\\Users\\LRIOSPIE\\CyDD\\IBM_Course\n",
            "\n",
            "24/09/2022  01:48 p. m.    <DIR>          .\n",
            "24/09/2022  01:48 p. m.    <DIR>          ..\n",
            "24/09/2022  01:26 p. m.    <DIR>          .ipynb_checkpoints\n",
            "16/09/2022  06:27 p. m.            20,125 A00453954_Act1_Mod1.ipynb\n",
            "24/09/2022  01:42 p. m.                12 Example.txt\n",
            "24/09/2022  01:49 p. m.                 0 Example_2.txt\n",
            "24/09/2022  01:48 p. m.             4,672 Untitled.ipynb\n",
            "               4 File(s)         24,809 bytes\n",
            "               3 Dir(s)  155,284,484,096 bytes free\n"
          ]
        }
      ],
      "source": [
        "ls"
      ]
    },
    {
      "cell_type": "code",
      "execution_count": null,
      "id": "b322eeea",
      "metadata": {
        "id": "b322eeea"
      },
      "outputs": [],
      "source": [
        "with open (\"Example_2.txt\",\"w\") as File_write:\n",
        "    File_write.write(\"This is Line_first\")"
      ]
    },
    {
      "cell_type": "code",
      "execution_count": null,
      "id": "1edb653c",
      "metadata": {
        "id": "1edb653c"
      },
      "outputs": [],
      "source": [
        "with open (\"Example_3.txt\",\"w\") as File_write:\n",
        "    File_write.write(\"This is Line_first\\n\")\n",
        "    File_write.write(\"This is Line_second\\n\")\n",
        "    File_write.write(\"This is Line_third\\n\")"
      ]
    },
    {
      "cell_type": "code",
      "execution_count": null,
      "id": "1721ebbb",
      "metadata": {
        "id": "1721ebbb",
        "outputId": "bf72d03b-4fb5-410a-d102-199352ea662c"
      },
      "outputs": [
        {
          "name": "stdout",
          "output_type": "stream",
          "text": [
            "This is Line_first\n",
            "\n",
            "This is Line_second\n",
            "\n",
            "This is Line_third\n",
            "\n"
          ]
        }
      ],
      "source": [
        "with open (\"Example_3.txt\",\"r\") as File_write:\n",
        "    file_stuff_2=File_write.readline()\n",
        "    print(file_stuff_2)\n",
        "    file_stuff_2=File_write.readline()\n",
        "    print(file_stuff_2)\n",
        "    file_stuff_2=File_write.readline()\n",
        "    print(file_stuff_2)"
      ]
    },
    {
      "cell_type": "code",
      "execution_count": null,
      "id": "80d490c0",
      "metadata": {
        "id": "80d490c0"
      },
      "outputs": [],
      "source": [
        "Lines_wrt=[\"Prim linea\\n\",\"Seg linea\\n\",\"Ter linea\\n\",\"Cuart linea\\n\",]"
      ]
    },
    {
      "cell_type": "code",
      "execution_count": null,
      "id": "404bb587",
      "metadata": {
        "id": "404bb587"
      },
      "outputs": [],
      "source": [
        "with open (\"Example_4.txt\",\"w\") as File_write1:\n",
        "    for lines in Lines_wrt:\n",
        "        File_write1.write(lines)\n",
        "    "
      ]
    },
    {
      "cell_type": "code",
      "execution_count": null,
      "id": "dfa5279e",
      "metadata": {
        "id": "dfa5279e",
        "outputId": "c30541fc-de58-44e9-e809-0eb0c1a0cd33"
      },
      "outputs": [
        {
          "name": "stdout",
          "output_type": "stream",
          "text": [
            "Prim linea\n",
            "\n",
            "Seg linea\n",
            "\n",
            "Ter linea\n",
            "\n",
            "Cuart linea\n",
            "\n"
          ]
        }
      ],
      "source": [
        "with open (\"Example_4.txt\",\"r\") as File_rd:\n",
        "    for line in File_rd:\n",
        "        print(line)"
      ]
    },
    {
      "cell_type": "code",
      "execution_count": null,
      "id": "a02a3184",
      "metadata": {
        "id": "a02a3184"
      },
      "outputs": [],
      "source": [
        "with open (\"Example_4.txt\",\"a\") as File_write2:\n",
        "    File_write2.write(\"Appended line\")"
      ]
    },
    {
      "cell_type": "code",
      "execution_count": null,
      "id": "d3447e49",
      "metadata": {
        "id": "d3447e49",
        "outputId": "4dd55c1f-b9e1-4d82-870c-e4388ced6ce7"
      },
      "outputs": [
        {
          "name": "stdout",
          "output_type": "stream",
          "text": [
            "Prim linea\n",
            "\n",
            "Seg linea\n",
            "\n",
            "Ter linea\n",
            "\n",
            "Cuart linea\n",
            "\n",
            "Appended line\n"
          ]
        }
      ],
      "source": [
        "with open (\"Example_4.txt\",\"r\") as File_rd:\n",
        "    for line in File_rd:\n",
        "        print(line)"
      ]
    },
    {
      "cell_type": "code",
      "execution_count": null,
      "id": "96a197c1",
      "metadata": {
        "id": "96a197c1",
        "outputId": "9c900d33-98a6-4289-c002-c80702138db8"
      },
      "outputs": [
        {
          "name": "stdout",
          "output_type": "stream",
          "text": [
            " Volume in drive C is OSDisk\n",
            " Volume Serial Number is 12B3-4442\n",
            "\n",
            " Directory of C:\\Users\\LRIOSPIE\\CyDD\\IBM_Course\n",
            "\n",
            "24/09/2022  02:00 p. m.    <DIR>          .\n",
            "24/09/2022  02:00 p. m.    <DIR>          ..\n",
            "24/09/2022  01:26 p. m.    <DIR>          .ipynb_checkpoints\n",
            "16/09/2022  06:27 p. m.            20,125 A00453954_Act1_Mod1.ipynb\n",
            "24/09/2022  01:42 p. m.                12 Example.txt\n",
            "24/09/2022  01:51 p. m.                18 Example_2.txt\n",
            "24/09/2022  01:51 p. m.                61 Example_3.txt\n",
            "24/09/2022  02:00 p. m.                60 Example_4.txt\n",
            "24/09/2022  02:00 p. m.             7,840 Untitled.ipynb\n",
            "               6 File(s)         28,116 bytes\n",
            "               3 Dir(s)  155,279,032,320 bytes free\n"
          ]
        }
      ],
      "source": [
        "ls"
      ]
    },
    {
      "cell_type": "code",
      "execution_count": null,
      "id": "7e85b69f",
      "metadata": {
        "id": "7e85b69f"
      },
      "outputs": [],
      "source": [
        "with open (\"Example_4.txt\",\"r\") as File_rd:\n",
        "    with open (\"Example_3.txt\",\"a\") as File_wrt:\n",
        "        for line in File_rd:\n",
        "            File_wrt.write(line)"
      ]
    },
    {
      "cell_type": "code",
      "execution_count": null,
      "id": "2acaca91",
      "metadata": {
        "id": "2acaca91",
        "outputId": "1f00e977-15ac-4f17-e48c-81efcd78af66"
      },
      "outputs": [
        {
          "name": "stdout",
          "output_type": "stream",
          "text": [
            "This is Line_first\n",
            "\n",
            "This is Line_second\n",
            "\n",
            "This is Line_third\n",
            "\n",
            "Prim linea\n",
            "\n",
            "Seg linea\n",
            "\n",
            "Ter linea\n",
            "\n",
            "Cuart linea\n",
            "\n",
            "Appended line\n"
          ]
        }
      ],
      "source": [
        "with open (\"Example_3.txt\",\"r\") as File_rd:\n",
        "     for line in File_rd:\n",
        "        print(line)"
      ]
    },
    {
      "cell_type": "code",
      "execution_count": null,
      "id": "ea2d3500",
      "metadata": {
        "id": "ea2d3500"
      },
      "outputs": [],
      "source": [
        "import pandas as pd"
      ]
    },
    {
      "cell_type": "code",
      "execution_count": null,
      "id": "3f7ca1cd",
      "metadata": {
        "id": "3f7ca1cd",
        "outputId": "10965b6a-6cb3-4929-d8bd-6835a3a6bacb"
      },
      "outputs": [
        {
          "name": "stdout",
          "output_type": "stream",
          "text": [
            " Volume in drive C is OSDisk\n",
            " Volume Serial Number is 12B3-4442\n",
            "\n",
            " Directory of C:\\Users\\LRIOSPIE\\CyDD\\IBM_Course\n",
            "\n",
            "24/09/2022  02:59 p. m.    <DIR>          .\n",
            "24/09/2022  02:59 p. m.    <DIR>          ..\n",
            "24/09/2022  01:26 p. m.    <DIR>          .ipynb_checkpoints\n",
            "16/09/2022  06:27 p. m.            20,125 A00453954_Act1_Mod1.ipynb\n",
            "24/09/2022  01:42 p. m.                12 Example.txt\n",
            "24/09/2022  01:51 p. m.                18 Example_2.txt\n",
            "24/09/2022  02:54 p. m.               121 Example_3.txt\n",
            "24/09/2022  02:00 p. m.                60 Example_4.txt\n",
            "11/07/2022  08:05 a. m.            27,169 PMT DVPR Tab_213 Console.csv\n",
            "24/09/2022  02:58 p. m.            10,093 Untitled.ipynb\n",
            "               7 File(s)         57,598 bytes\n",
            "               3 Dir(s)  155,264,708,608 bytes free\n"
          ]
        }
      ],
      "source": [
        "ls\n"
      ]
    },
    {
      "cell_type": "code",
      "execution_count": null,
      "id": "d7f1018f",
      "metadata": {
        "id": "d7f1018f"
      },
      "outputs": [],
      "source": [
        "cvs_path=\"PMT DVPR Tab_213 Console.csv\""
      ]
    },
    {
      "cell_type": "code",
      "execution_count": null,
      "id": "95369140",
      "metadata": {
        "id": "95369140"
      },
      "outputs": [],
      "source": [
        "df=pd.read_csv(cvs_path)"
      ]
    },
    {
      "cell_type": "code",
      "execution_count": null,
      "id": "d2fe822e",
      "metadata": {
        "id": "d2fe822e",
        "outputId": "4f00e360-e385-4e38-f2ae-6dd3db1a695c"
      },
      "outputs": [
        {
          "data": {
            "text/html": [
              "<div>\n",
              "<style scoped>\n",
              "    .dataframe tbody tr th:only-of-type {\n",
              "        vertical-align: middle;\n",
              "    }\n",
              "\n",
              "    .dataframe tbody tr th {\n",
              "        vertical-align: top;\n",
              "    }\n",
              "\n",
              "    .dataframe thead th {\n",
              "        text-align: right;\n",
              "    }\n",
              "</style>\n",
              "<table border=\"1\" class=\"dataframe\">\n",
              "  <thead>\n",
              "    <tr style=\"text-align: right;\">\n",
              "      <th></th>\n",
              "      <th>DVP Team</th>\n",
              "      <th>Rqmt ID</th>\n",
              "      <th>Rqmt Title</th>\n",
              "      <th>Min Feat Desc</th>\n",
              "      <th>Target (Min:Nom:Max)</th>\n",
              "      <th>DVM Title</th>\n",
              "      <th>Rqst ID</th>\n",
              "      <th>Reporting Milestone</th>\n",
              "      <th>Rqstd Proto Type</th>\n",
              "      <th>Sched Start</th>\n",
              "      <th>Sched Finish</th>\n",
              "      <th>Actual Start</th>\n",
              "      <th>Actual Finish</th>\n",
              "      <th>Test Rprt Num</th>\n",
              "      <th>Results Needed</th>\n",
              "      <th>Results Generated</th>\n",
              "      <th>Summary Results</th>\n",
              "      <th>Risk Status</th>\n",
              "      <th>Concern Num</th>\n",
              "    </tr>\n",
              "  </thead>\n",
              "  <tbody>\n",
              "    <tr>\n",
              "      <th>0</th>\n",
              "      <td>213 Console</td>\n",
              "      <td>'08-0352</td>\n",
              "      <td>SQUEAK &amp; RATTLE TRUSTMARK (INCLUDES MTRL. COMP...</td>\n",
              "      <td>CX483 Console</td>\n",
              "      <td>NaN</td>\n",
              "      <td>MATL COMPATIBILITY &amp; CLEARANCE CHECKER TOOL</td>\n",
              "      <td>3479635</td>\n",
              "      <td>FDJ</td>\n",
              "      <td>CAE</td>\n",
              "      <td>NaN</td>\n",
              "      <td>15-nov-17</td>\n",
              "      <td>NaN</td>\n",
              "      <td>13-nov-17</td>\n",
              "      <td>NaN</td>\n",
              "      <td>See Requirement Text</td>\n",
              "      <td>complete/comply</td>\n",
              "      <td>NaN</td>\n",
              "      <td>COMPLY</td>\n",
              "      <td>NaN</td>\n",
              "    </tr>\n",
              "    <tr>\n",
              "      <th>1</th>\n",
              "      <td>213 Console</td>\n",
              "      <td>'17-0209</td>\n",
              "      <td>DNA - ARMREST SOFTNESS FOR DOOR/CONSOLE/SEAT</td>\n",
              "      <td>Default Test Object</td>\n",
              "      <td>NaN</td>\n",
              "      <td>MEASUREMENT</td>\n",
              "      <td>3683230</td>\n",
              "      <td>PEC C483</td>\n",
              "      <td>OTHER</td>\n",
              "      <td>NaN</td>\n",
              "      <td>25-AUG-2018</td>\n",
              "      <td>NaN</td>\n",
              "      <td>09-AUG-2018</td>\n",
              "      <td>NaN</td>\n",
              "      <td>FC1, FC2, FC3, FC4, FC5|</td>\n",
              "      <td>8/21: Test completed and passed/comply</td>\n",
              "      <td>NaN</td>\n",
              "      <td>COMPLY</td>\n",
              "      <td>NaN</td>\n",
              "    </tr>\n",
              "    <tr>\n",
              "      <th>2</th>\n",
              "      <td>213 Console</td>\n",
              "      <td>'19-0108</td>\n",
              "      <td>DIRECTIVE E-108: GLOBAL PARTS TRADEMARKS</td>\n",
              "      <td>CX483 Console</td>\n",
              "      <td>NaN</td>\n",
              "      <td>CAD-PRINT CHECK</td>\n",
              "      <td>3479627</td>\n",
              "      <td>FDJ</td>\n",
              "      <td>CAD/DIGIBUCK</td>\n",
              "      <td>NaN</td>\n",
              "      <td>08-nov-17</td>\n",
              "      <td>NaN</td>\n",
              "      <td>18-oct-17</td>\n",
              "      <td>NaN</td>\n",
              "      <td>pass/fail</td>\n",
              "      <td>complete/comply</td>\n",
              "      <td>NaN</td>\n",
              "      <td>COMPLY</td>\n",
              "      <td>NaN</td>\n",
              "    </tr>\n",
              "    <tr>\n",
              "      <th>3</th>\n",
              "      <td>213 Console</td>\n",
              "      <td>'19-0108</td>\n",
              "      <td>DIRECTIVE E-108: GLOBAL PARTS TRADEMARKS</td>\n",
              "      <td>CX483 Micro Console</td>\n",
              "      <td>meet</td>\n",
              "      <td>CAD-PRINT CHECK</td>\n",
              "      <td>3915133</td>\n",
              "      <td>FDJCMICRO G</td>\n",
              "      <td>CAD/DIGIBUCK</td>\n",
              "      <td>NaN</td>\n",
              "      <td>15-may-20</td>\n",
              "      <td>NaN</td>\n",
              "      <td>NaN</td>\n",
              "      <td>NaN</td>\n",
              "      <td>(1) Illustration showing vehicle-level locatio...</td>\n",
              "      <td>;;;;;;;</td>\n",
              "      <td>NaN</td>\n",
              "      <td>COMPLY</td>\n",
              "      <td>NaN</td>\n",
              "    </tr>\n",
              "    <tr>\n",
              "      <th>4</th>\n",
              "      <td>213 Console</td>\n",
              "      <td>'CC-0005</td>\n",
              "      <td>REGISTERS - DESIGN CRITERIA</td>\n",
              "      <td>CX483 Console</td>\n",
              "      <td>NaN</td>\n",
              "      <td>DESIGN REVIEW</td>\n",
              "      <td>3479613</td>\n",
              "      <td>FDJ</td>\n",
              "      <td>CAD/DIGIBUCK</td>\n",
              "      <td>NaN</td>\n",
              "      <td>22-nov-17</td>\n",
              "      <td>NaN</td>\n",
              "      <td>20-nov-17</td>\n",
              "      <td>NaN</td>\n",
              "      <td>See Detail &amp; Requirement Text</td>\n",
              "      <td>Complete/comply</td>\n",
              "      <td>NaN</td>\n",
              "      <td>COMPLY</td>\n",
              "      <td>NaN</td>\n",
              "    </tr>\n",
              "  </tbody>\n",
              "</table>\n",
              "</div>"
            ],
            "text/plain": [
              "   DVP Team    Rqmt ID                                            Rqmt Title   \\\n",
              "0  213 Console    '08-0352  SQUEAK & RATTLE TRUSTMARK (INCLUDES MTRL. COMP...   \n",
              "1  213 Console    '17-0209       DNA - ARMREST SOFTNESS FOR DOOR/CONSOLE/SEAT   \n",
              "2  213 Console    '19-0108           DIRECTIVE E-108: GLOBAL PARTS TRADEMARKS   \n",
              "3  213 Console    '19-0108           DIRECTIVE E-108: GLOBAL PARTS TRADEMARKS   \n",
              "4  213 Console    'CC-0005                        REGISTERS - DESIGN CRITERIA   \n",
              "\n",
              "       Min Feat Desc   Target (Min:Nom:Max)     \\\n",
              "0        CX483 Console                     NaN   \n",
              "1  Default Test Object                     NaN   \n",
              "2        CX483 Console                     NaN   \n",
              "3  CX483 Micro Console                    meet   \n",
              "4        CX483 Console                     NaN   \n",
              "\n",
              "                                 DVM Title      Rqst ID      \\\n",
              "0  MATL COMPATIBILITY & CLEARANCE CHECKER TOOL      3479635   \n",
              "1                                  MEASUREMENT      3683230   \n",
              "2                              CAD-PRINT CHECK      3479627   \n",
              "3                              CAD-PRINT CHECK      3915133   \n",
              "4                                DESIGN REVIEW      3479613   \n",
              "\n",
              "  Reporting Milestone     Rqstd Proto Type    Sched Start   Sched Finish     \\\n",
              "0                     FDJ                 CAE           NaN       15-nov-17   \n",
              "1                PEC C483               OTHER           NaN     25-AUG-2018   \n",
              "2                     FDJ        CAD/DIGIBUCK           NaN       08-nov-17   \n",
              "3             FDJCMICRO G        CAD/DIGIBUCK           NaN       15-may-20   \n",
              "4                     FDJ        CAD/DIGIBUCK           NaN       22-nov-17   \n",
              "\n",
              "  Actual Start    Actual Finish    Test Rprt Num    \\\n",
              "0             NaN       13-nov-17              NaN   \n",
              "1             NaN     09-AUG-2018              NaN   \n",
              "2             NaN       18-oct-17              NaN   \n",
              "3             NaN             NaN              NaN   \n",
              "4             NaN       20-nov-17              NaN   \n",
              "\n",
              "                                     Results Needed   \\\n",
              "0                               See Requirement Text   \n",
              "1                           FC1, FC2, FC3, FC4, FC5|   \n",
              "2                                          pass/fail   \n",
              "3  (1) Illustration showing vehicle-level locatio...   \n",
              "4                      See Detail & Requirement Text   \n",
              "\n",
              "                     Results Generated     Summary Results     Risk Status  \\\n",
              "0                         complete/comply                  NaN      COMPLY   \n",
              "1  8/21: Test completed and passed/comply                  NaN      COMPLY   \n",
              "2                         complete/comply                  NaN      COMPLY   \n",
              "3                                 ;;;;;;;                  NaN      COMPLY   \n",
              "4                         Complete/comply                  NaN      COMPLY   \n",
              "\n",
              "   Concern Num  \n",
              "0          NaN  \n",
              "1          NaN  \n",
              "2          NaN  \n",
              "3          NaN  \n",
              "4          NaN  "
            ]
          },
          "execution_count": 53,
          "metadata": {},
          "output_type": "execute_result"
        }
      ],
      "source": [
        "df.head()"
      ]
    },
    {
      "cell_type": "code",
      "execution_count": null,
      "id": "360ef830",
      "metadata": {
        "id": "360ef830",
        "outputId": "adb6585d-a545-40a2-ed90-d5cba548e881"
      },
      "outputs": [
        {
          "name": "stdout",
          "output_type": "stream",
          "text": [
            "<class 'pandas.core.frame.DataFrame'>\n",
            "RangeIndex: 90 entries, 0 to 89\n",
            "Data columns (total 19 columns):\n",
            " #   Column                   Non-Null Count  Dtype  \n",
            "---  ------                   --------------  -----  \n",
            " 0   DVP Team                 90 non-null     object \n",
            " 1   Rqmt ID                  90 non-null     object \n",
            " 2   Rqmt Title               90 non-null     object \n",
            " 3   Min Feat Desc            90 non-null     object \n",
            " 4   Target (Min:Nom:Max)     20 non-null     object \n",
            " 5   DVM Title                90 non-null     object \n",
            " 6   Rqst ID                  90 non-null     int64  \n",
            " 7   Reporting Milestone      90 non-null     object \n",
            " 8   Rqstd Proto Type         90 non-null     object \n",
            " 9   Sched Start              7 non-null      object \n",
            " 10  Sched Finish             90 non-null     object \n",
            " 11  Actual Start             19 non-null     object \n",
            " 12  Actual Finish            73 non-null     object \n",
            " 13  Test Rprt Num            0 non-null      float64\n",
            " 14  Results Needed           77 non-null     object \n",
            " 15   Results Generated       72 non-null     object \n",
            " 16  Summary Results          0 non-null      float64\n",
            " 17  Risk Status              90 non-null     object \n",
            " 18  Concern Num              9 non-null      float64\n",
            "dtypes: float64(3), int64(1), object(15)\n",
            "memory usage: 13.5+ KB\n"
          ]
        }
      ],
      "source": [
        "df.info()"
      ]
    },
    {
      "cell_type": "code",
      "execution_count": null,
      "id": "a33287eb",
      "metadata": {
        "id": "a33287eb",
        "outputId": "53f67a9c-b3f7-4b89-cf20-0170208e9e57"
      },
      "outputs": [
        {
          "data": {
            "text/plain": [
              "Index(['DVP Team   ', 'Rqmt ID    ', 'Rqmt Title ', 'Min Feat Desc  ',\n",
              "       'Target (Min:Nom:Max)   ', 'DVM Title    ', 'Rqst ID    ',\n",
              "       'Reporting Milestone    ', 'Rqstd Proto Type   ', 'Sched Start  ',\n",
              "       'Sched Finish   ', 'Actual Start   ', 'Actual Finish  ',\n",
              "       'Test Rprt Num  ', 'Results Needed ', ' Results Generated   ',\n",
              "       'Summary Results    ', 'Risk Status', 'Concern Num'],\n",
              "      dtype='object')"
            ]
          },
          "execution_count": 56,
          "metadata": {},
          "output_type": "execute_result"
        }
      ],
      "source": [
        "df.columns"
      ]
    },
    {
      "cell_type": "code",
      "execution_count": null,
      "id": "46d58a85",
      "metadata": {
        "id": "46d58a85",
        "outputId": "71349cb1-d370-45ae-ef57-0a4c801b081a"
      },
      "outputs": [
        {
          "data": {
            "text/plain": [
              "RangeIndex(start=0, stop=90, step=1)"
            ]
          },
          "execution_count": 63,
          "metadata": {},
          "output_type": "execute_result"
        }
      ],
      "source": [
        "df.index"
      ]
    },
    {
      "cell_type": "code",
      "execution_count": null,
      "id": "3882ff62",
      "metadata": {
        "id": "3882ff62",
        "outputId": "c2f3cfdc-935f-42e0-ecbc-38ed95c7c609"
      },
      "outputs": [
        {
          "data": {
            "text/plain": [
              "0     '08-0352\n",
              "1     '17-0209\n",
              "2     '19-0108\n",
              "3     '19-0108\n",
              "4     'CC-0005\n",
              "        ...   \n",
              "85    'IP-0010\n",
              "86    'IP-0042\n",
              "87    'IP-0068\n",
              "88    'IP-0142\n",
              "89    'MA-0225\n",
              "Name: Rqmt ID    , Length: 90, dtype: object"
            ]
          },
          "execution_count": 67,
          "metadata": {},
          "output_type": "execute_result"
        }
      ],
      "source": [
        "df['Rqmt ID    ']"
      ]
    },
    {
      "cell_type": "code",
      "execution_count": null,
      "id": "f6e591a9",
      "metadata": {
        "id": "f6e591a9"
      },
      "outputs": [],
      "source": [
        "Rq_df=df[['Rqmt ID    ']]"
      ]
    },
    {
      "cell_type": "code",
      "execution_count": null,
      "id": "3c8af688",
      "metadata": {
        "id": "3c8af688",
        "outputId": "494b11b0-4a50-4777-ffe0-509a91f47634"
      },
      "outputs": [
        {
          "data": {
            "text/html": [
              "<div>\n",
              "<style scoped>\n",
              "    .dataframe tbody tr th:only-of-type {\n",
              "        vertical-align: middle;\n",
              "    }\n",
              "\n",
              "    .dataframe tbody tr th {\n",
              "        vertical-align: top;\n",
              "    }\n",
              "\n",
              "    .dataframe thead th {\n",
              "        text-align: right;\n",
              "    }\n",
              "</style>\n",
              "<table border=\"1\" class=\"dataframe\">\n",
              "  <thead>\n",
              "    <tr style=\"text-align: right;\">\n",
              "      <th></th>\n",
              "      <th>Rqmt ID</th>\n",
              "    </tr>\n",
              "  </thead>\n",
              "  <tbody>\n",
              "    <tr>\n",
              "      <th>0</th>\n",
              "      <td>'08-0352</td>\n",
              "    </tr>\n",
              "    <tr>\n",
              "      <th>1</th>\n",
              "      <td>'17-0209</td>\n",
              "    </tr>\n",
              "    <tr>\n",
              "      <th>2</th>\n",
              "      <td>'19-0108</td>\n",
              "    </tr>\n",
              "    <tr>\n",
              "      <th>3</th>\n",
              "      <td>'19-0108</td>\n",
              "    </tr>\n",
              "    <tr>\n",
              "      <th>4</th>\n",
              "      <td>'CC-0005</td>\n",
              "    </tr>\n",
              "    <tr>\n",
              "      <th>...</th>\n",
              "      <td>...</td>\n",
              "    </tr>\n",
              "    <tr>\n",
              "      <th>85</th>\n",
              "      <td>'IP-0010</td>\n",
              "    </tr>\n",
              "    <tr>\n",
              "      <th>86</th>\n",
              "      <td>'IP-0042</td>\n",
              "    </tr>\n",
              "    <tr>\n",
              "      <th>87</th>\n",
              "      <td>'IP-0068</td>\n",
              "    </tr>\n",
              "    <tr>\n",
              "      <th>88</th>\n",
              "      <td>'IP-0142</td>\n",
              "    </tr>\n",
              "    <tr>\n",
              "      <th>89</th>\n",
              "      <td>'MA-0225</td>\n",
              "    </tr>\n",
              "  </tbody>\n",
              "</table>\n",
              "<p>90 rows × 1 columns</p>\n",
              "</div>"
            ],
            "text/plain": [
              "   Rqmt ID    \n",
              "0     '08-0352\n",
              "1     '17-0209\n",
              "2     '19-0108\n",
              "3     '19-0108\n",
              "4     'CC-0005\n",
              "..         ...\n",
              "85    'IP-0010\n",
              "86    'IP-0042\n",
              "87    'IP-0068\n",
              "88    'IP-0142\n",
              "89    'MA-0225\n",
              "\n",
              "[90 rows x 1 columns]"
            ]
          },
          "execution_count": 72,
          "metadata": {},
          "output_type": "execute_result"
        }
      ],
      "source": [
        "Rq_df"
      ]
    },
    {
      "cell_type": "code",
      "execution_count": null,
      "id": "20228b4f",
      "metadata": {
        "id": "20228b4f",
        "outputId": "c8d9a786-6229-4a19-ea6c-8f03ec380bab"
      },
      "outputs": [
        {
          "data": {
            "text/plain": [
              "\"'19-0108\""
            ]
          },
          "execution_count": 74,
          "metadata": {},
          "output_type": "execute_result"
        }
      ],
      "source": [
        "Rq_df.iloc[2,0]"
      ]
    },
    {
      "cell_type": "code",
      "execution_count": null,
      "id": "35c4ec3e",
      "metadata": {
        "id": "35c4ec3e",
        "outputId": "ac8798a2-efd0-4e0e-d105-8cbfbfdde66c"
      },
      "outputs": [
        {
          "data": {
            "text/plain": [
              "\"'08-0352\""
            ]
          },
          "execution_count": 75,
          "metadata": {},
          "output_type": "execute_result"
        }
      ],
      "source": [
        "Rq_df.iloc[0,0]"
      ]
    },
    {
      "cell_type": "code",
      "execution_count": null,
      "id": "2e82ff9a",
      "metadata": {
        "id": "2e82ff9a",
        "outputId": "10d5274c-20ed-42c8-b951-cf39f95601d9"
      },
      "outputs": [
        {
          "data": {
            "text/plain": [
              "'SQUEAK & RATTLE TRUSTMARK (INCLUDES MTRL. COMPATIBILITY, CLE'"
            ]
          },
          "execution_count": 80,
          "metadata": {},
          "output_type": "execute_result"
        }
      ],
      "source": [
        "df.iloc[0,2]"
      ]
    },
    {
      "cell_type": "code",
      "execution_count": null,
      "id": "c98db1e1",
      "metadata": {
        "id": "c98db1e1"
      },
      "outputs": [],
      "source": [
        "Rq_df2=df[0:2]"
      ]
    },
    {
      "cell_type": "code",
      "execution_count": null,
      "id": "a4eeb047",
      "metadata": {
        "id": "a4eeb047",
        "outputId": "7fe3c7b3-c5af-4250-fd19-84959e0898ac"
      },
      "outputs": [
        {
          "data": {
            "text/html": [
              "<div>\n",
              "<style scoped>\n",
              "    .dataframe tbody tr th:only-of-type {\n",
              "        vertical-align: middle;\n",
              "    }\n",
              "\n",
              "    .dataframe tbody tr th {\n",
              "        vertical-align: top;\n",
              "    }\n",
              "\n",
              "    .dataframe thead th {\n",
              "        text-align: right;\n",
              "    }\n",
              "</style>\n",
              "<table border=\"1\" class=\"dataframe\">\n",
              "  <thead>\n",
              "    <tr style=\"text-align: right;\">\n",
              "      <th></th>\n",
              "      <th>DVP Team</th>\n",
              "      <th>Rqmt ID</th>\n",
              "      <th>Rqmt Title</th>\n",
              "      <th>Min Feat Desc</th>\n",
              "      <th>Target (Min:Nom:Max)</th>\n",
              "      <th>DVM Title</th>\n",
              "      <th>Rqst ID</th>\n",
              "      <th>Reporting Milestone</th>\n",
              "      <th>Rqstd Proto Type</th>\n",
              "      <th>Sched Start</th>\n",
              "      <th>Sched Finish</th>\n",
              "      <th>Actual Start</th>\n",
              "      <th>Actual Finish</th>\n",
              "      <th>Test Rprt Num</th>\n",
              "      <th>Results Needed</th>\n",
              "      <th>Results Generated</th>\n",
              "      <th>Summary Results</th>\n",
              "      <th>Risk Status</th>\n",
              "      <th>Concern Num</th>\n",
              "    </tr>\n",
              "  </thead>\n",
              "  <tbody>\n",
              "    <tr>\n",
              "      <th>0</th>\n",
              "      <td>213 Console</td>\n",
              "      <td>'08-0352</td>\n",
              "      <td>SQUEAK &amp; RATTLE TRUSTMARK (INCLUDES MTRL. COMP...</td>\n",
              "      <td>CX483 Console</td>\n",
              "      <td>NaN</td>\n",
              "      <td>MATL COMPATIBILITY &amp; CLEARANCE CHECKER TOOL</td>\n",
              "      <td>3479635</td>\n",
              "      <td>FDJ</td>\n",
              "      <td>CAE</td>\n",
              "      <td>NaN</td>\n",
              "      <td>15-nov-17</td>\n",
              "      <td>NaN</td>\n",
              "      <td>13-nov-17</td>\n",
              "      <td>NaN</td>\n",
              "      <td>See Requirement Text</td>\n",
              "      <td>complete/comply</td>\n",
              "      <td>NaN</td>\n",
              "      <td>COMPLY</td>\n",
              "      <td>NaN</td>\n",
              "    </tr>\n",
              "    <tr>\n",
              "      <th>1</th>\n",
              "      <td>213 Console</td>\n",
              "      <td>'17-0209</td>\n",
              "      <td>DNA - ARMREST SOFTNESS FOR DOOR/CONSOLE/SEAT</td>\n",
              "      <td>Default Test Object</td>\n",
              "      <td>NaN</td>\n",
              "      <td>MEASUREMENT</td>\n",
              "      <td>3683230</td>\n",
              "      <td>PEC C483</td>\n",
              "      <td>OTHER</td>\n",
              "      <td>NaN</td>\n",
              "      <td>25-AUG-2018</td>\n",
              "      <td>NaN</td>\n",
              "      <td>09-AUG-2018</td>\n",
              "      <td>NaN</td>\n",
              "      <td>FC1, FC2, FC3, FC4, FC5|</td>\n",
              "      <td>8/21: Test completed and passed/comply</td>\n",
              "      <td>NaN</td>\n",
              "      <td>COMPLY</td>\n",
              "      <td>NaN</td>\n",
              "    </tr>\n",
              "  </tbody>\n",
              "</table>\n",
              "</div>"
            ],
            "text/plain": [
              "   DVP Team    Rqmt ID                                            Rqmt Title   \\\n",
              "0  213 Console    '08-0352  SQUEAK & RATTLE TRUSTMARK (INCLUDES MTRL. COMP...   \n",
              "1  213 Console    '17-0209       DNA - ARMREST SOFTNESS FOR DOOR/CONSOLE/SEAT   \n",
              "\n",
              "       Min Feat Desc   Target (Min:Nom:Max)     \\\n",
              "0        CX483 Console                     NaN   \n",
              "1  Default Test Object                     NaN   \n",
              "\n",
              "                                 DVM Title      Rqst ID      \\\n",
              "0  MATL COMPATIBILITY & CLEARANCE CHECKER TOOL      3479635   \n",
              "1                                  MEASUREMENT      3683230   \n",
              "\n",
              "  Reporting Milestone     Rqstd Proto Type    Sched Start   Sched Finish     \\\n",
              "0                     FDJ                 CAE           NaN       15-nov-17   \n",
              "1                PEC C483               OTHER           NaN     25-AUG-2018   \n",
              "\n",
              "  Actual Start    Actual Finish    Test Rprt Num             Results Needed   \\\n",
              "0             NaN       13-nov-17              NaN      See Requirement Text   \n",
              "1             NaN     09-AUG-2018              NaN  FC1, FC2, FC3, FC4, FC5|   \n",
              "\n",
              "                     Results Generated     Summary Results     Risk Status  \\\n",
              "0                         complete/comply                  NaN      COMPLY   \n",
              "1  8/21: Test completed and passed/comply                  NaN      COMPLY   \n",
              "\n",
              "   Concern Num  \n",
              "0          NaN  \n",
              "1          NaN  "
            ]
          },
          "execution_count": 82,
          "metadata": {},
          "output_type": "execute_result"
        }
      ],
      "source": [
        "Rq_df2"
      ]
    },
    {
      "cell_type": "code",
      "execution_count": null,
      "id": "0588f381",
      "metadata": {
        "id": "0588f381",
        "outputId": "89de3afe-beee-471d-da18-3307230807ba"
      },
      "outputs": [
        {
          "data": {
            "text/plain": [
              "array(['213 Console'], dtype=object)"
            ]
          },
          "execution_count": 87,
          "metadata": {},
          "output_type": "execute_result"
        }
      ],
      "source": [
        "df['DVP Team   '].unique()"
      ]
    },
    {
      "cell_type": "code",
      "execution_count": null,
      "id": "7358b10c",
      "metadata": {
        "id": "7358b10c",
        "outputId": "1e0da482-3bcb-4d5f-fca6-5abd39a86a94"
      },
      "outputs": [
        {
          "data": {
            "text/plain": [
              "array(['FDJ', 'PEC C483', 'FDJCMICRO G', 'PEC (China)', 'PECCMICRO G',\n",
              "       'FEC C483'], dtype=object)"
            ]
          },
          "execution_count": 88,
          "metadata": {},
          "output_type": "execute_result"
        }
      ],
      "source": [
        "df['Reporting Milestone    '].unique()"
      ]
    },
    {
      "cell_type": "code",
      "execution_count": null,
      "id": "d71d7b36",
      "metadata": {
        "id": "d71d7b36"
      },
      "outputs": [],
      "source": [
        "df_FDJ=df[df['Reporting Milestone    ']=='FDJ']"
      ]
    },
    {
      "cell_type": "code",
      "execution_count": null,
      "id": "2553d5fd",
      "metadata": {
        "id": "2553d5fd",
        "outputId": "162f6c6e-3a55-40a6-cd25-a045df92f8b6"
      },
      "outputs": [
        {
          "data": {
            "text/html": [
              "<div>\n",
              "<style scoped>\n",
              "    .dataframe tbody tr th:only-of-type {\n",
              "        vertical-align: middle;\n",
              "    }\n",
              "\n",
              "    .dataframe tbody tr th {\n",
              "        vertical-align: top;\n",
              "    }\n",
              "\n",
              "    .dataframe thead th {\n",
              "        text-align: right;\n",
              "    }\n",
              "</style>\n",
              "<table border=\"1\" class=\"dataframe\">\n",
              "  <thead>\n",
              "    <tr style=\"text-align: right;\">\n",
              "      <th></th>\n",
              "      <th>DVP Team</th>\n",
              "      <th>Rqmt ID</th>\n",
              "      <th>Rqmt Title</th>\n",
              "      <th>Min Feat Desc</th>\n",
              "      <th>Target (Min:Nom:Max)</th>\n",
              "      <th>DVM Title</th>\n",
              "      <th>Rqst ID</th>\n",
              "      <th>Reporting Milestone</th>\n",
              "      <th>Rqstd Proto Type</th>\n",
              "      <th>Sched Start</th>\n",
              "      <th>Sched Finish</th>\n",
              "      <th>Actual Start</th>\n",
              "      <th>Actual Finish</th>\n",
              "      <th>Test Rprt Num</th>\n",
              "      <th>Results Needed</th>\n",
              "      <th>Results Generated</th>\n",
              "      <th>Summary Results</th>\n",
              "      <th>Risk Status</th>\n",
              "      <th>Concern Num</th>\n",
              "    </tr>\n",
              "  </thead>\n",
              "  <tbody>\n",
              "    <tr>\n",
              "      <th>0</th>\n",
              "      <td>213 Console</td>\n",
              "      <td>'08-0352</td>\n",
              "      <td>SQUEAK &amp; RATTLE TRUSTMARK (INCLUDES MTRL. COMP...</td>\n",
              "      <td>CX483 Console</td>\n",
              "      <td>NaN</td>\n",
              "      <td>MATL COMPATIBILITY &amp; CLEARANCE CHECKER TOOL</td>\n",
              "      <td>3479635</td>\n",
              "      <td>FDJ</td>\n",
              "      <td>CAE</td>\n",
              "      <td>NaN</td>\n",
              "      <td>15-nov-17</td>\n",
              "      <td>NaN</td>\n",
              "      <td>13-nov-17</td>\n",
              "      <td>NaN</td>\n",
              "      <td>See Requirement Text</td>\n",
              "      <td>complete/comply</td>\n",
              "      <td>NaN</td>\n",
              "      <td>COMPLY</td>\n",
              "      <td>NaN</td>\n",
              "    </tr>\n",
              "    <tr>\n",
              "      <th>2</th>\n",
              "      <td>213 Console</td>\n",
              "      <td>'19-0108</td>\n",
              "      <td>DIRECTIVE E-108: GLOBAL PARTS TRADEMARKS</td>\n",
              "      <td>CX483 Console</td>\n",
              "      <td>NaN</td>\n",
              "      <td>CAD-PRINT CHECK</td>\n",
              "      <td>3479627</td>\n",
              "      <td>FDJ</td>\n",
              "      <td>CAD/DIGIBUCK</td>\n",
              "      <td>NaN</td>\n",
              "      <td>08-nov-17</td>\n",
              "      <td>NaN</td>\n",
              "      <td>18-oct-17</td>\n",
              "      <td>NaN</td>\n",
              "      <td>pass/fail</td>\n",
              "      <td>complete/comply</td>\n",
              "      <td>NaN</td>\n",
              "      <td>COMPLY</td>\n",
              "      <td>NaN</td>\n",
              "    </tr>\n",
              "    <tr>\n",
              "      <th>4</th>\n",
              "      <td>213 Console</td>\n",
              "      <td>'CC-0005</td>\n",
              "      <td>REGISTERS - DESIGN CRITERIA</td>\n",
              "      <td>CX483 Console</td>\n",
              "      <td>NaN</td>\n",
              "      <td>DESIGN REVIEW</td>\n",
              "      <td>3479613</td>\n",
              "      <td>FDJ</td>\n",
              "      <td>CAD/DIGIBUCK</td>\n",
              "      <td>NaN</td>\n",
              "      <td>22-nov-17</td>\n",
              "      <td>NaN</td>\n",
              "      <td>20-nov-17</td>\n",
              "      <td>NaN</td>\n",
              "      <td>See Detail &amp; Requirement Text</td>\n",
              "      <td>Complete/comply</td>\n",
              "      <td>NaN</td>\n",
              "      <td>COMPLY</td>\n",
              "      <td>NaN</td>\n",
              "    </tr>\n",
              "    <tr>\n",
              "      <th>7</th>\n",
              "      <td>213 Console</td>\n",
              "      <td>'IF-0302</td>\n",
              "      <td>USA/CDN INTERIOR COMPARTMENT DOOR LATCH INERTI...</td>\n",
              "      <td>CX483 Console</td>\n",
              "      <td>NaN</td>\n",
              "      <td>CALCULATION</td>\n",
              "      <td>3557775</td>\n",
              "      <td>FDJ</td>\n",
              "      <td>CAD/DIGIBUCK</td>\n",
              "      <td>NaN</td>\n",
              "      <td>08-nov-17</td>\n",
              "      <td>NaN</td>\n",
              "      <td>30-oct-17</td>\n",
              "      <td>NaN</td>\n",
              "      <td>SAE Recommended Practice J839b, section 5 \"Ine...</td>\n",
              "      <td>Complete/comply</td>\n",
              "      <td>NaN</td>\n",
              "      <td>COMPLY</td>\n",
              "      <td>NaN</td>\n",
              "    </tr>\n",
              "    <tr>\n",
              "      <th>9</th>\n",
              "      <td>213 Console</td>\n",
              "      <td>'IP-0004</td>\n",
              "      <td>IP AND FLOOR CONSOLE MAXIMUM DEFLECTION FOR QU...</td>\n",
              "      <td>CX483 Console</td>\n",
              "      <td>NaN</td>\n",
              "      <td>IP AND CENTER CONSOLE STIFFNESS</td>\n",
              "      <td>3479611</td>\n",
              "      <td>FDJ</td>\n",
              "      <td>CAE</td>\n",
              "      <td>NaN</td>\n",
              "      <td>22-nov-17</td>\n",
              "      <td>NaN</td>\n",
              "      <td>21-nov-17</td>\n",
              "      <td>NaN</td>\n",
              "      <td>See Requirement and DVM;Deflection (mm) at 22 ...</td>\n",
              "      <td>Complete/comply;</td>\n",
              "      <td>NaN</td>\n",
              "      <td>COMPLY</td>\n",
              "      <td>NaN</td>\n",
              "    </tr>\n",
              "    <tr>\n",
              "      <th>11</th>\n",
              "      <td>213 Console</td>\n",
              "      <td>'IP-0020</td>\n",
              "      <td>CUP HOLDER -  EXECUTION</td>\n",
              "      <td>CX483 Console</td>\n",
              "      <td>NaN</td>\n",
              "      <td>CAD-PRINT CHECK</td>\n",
              "      <td>3479628</td>\n",
              "      <td>FDJ</td>\n",
              "      <td>CAD/DIGIBUCK</td>\n",
              "      <td>NaN</td>\n",
              "      <td>08-nov-17</td>\n",
              "      <td>NaN</td>\n",
              "      <td>12-oct-17</td>\n",
              "      <td>NaN</td>\n",
              "      <td>See Requirement and DVM</td>\n",
              "      <td>complete/comply</td>\n",
              "      <td>NaN</td>\n",
              "      <td>COMPLY</td>\n",
              "      <td>NaN</td>\n",
              "    </tr>\n",
              "    <tr>\n",
              "      <th>15</th>\n",
              "      <td>213 Console</td>\n",
              "      <td>'IP-0026</td>\n",
              "      <td>IP/CONSOLE SERVICEABILITY</td>\n",
              "      <td>CX483 Console</td>\n",
              "      <td>NaN</td>\n",
              "      <td>Subject Matter Expert Evaluation for Service R...</td>\n",
              "      <td>3479612</td>\n",
              "      <td>FDJ</td>\n",
              "      <td>CAD/DIGIBUCK</td>\n",
              "      <td>NaN</td>\n",
              "      <td>08-nov-17</td>\n",
              "      <td>NaN</td>\n",
              "      <td>09-oct-17</td>\n",
              "      <td>NaN</td>\n",
              "      <td>Service Labor Time</td>\n",
              "      <td>Complete/Comply</td>\n",
              "      <td>NaN</td>\n",
              "      <td>COMPLY</td>\n",
              "      <td>NaN</td>\n",
              "    </tr>\n",
              "    <tr>\n",
              "      <th>17</th>\n",
              "      <td>213 Console</td>\n",
              "      <td>'IP-0034</td>\n",
              "      <td>CONSOLE SYSTEM - STIFFNESS</td>\n",
              "      <td>CX483 Console</td>\n",
              "      <td>NaN</td>\n",
              "      <td>INSTRUMENT PANEL AND FLOOR CONSOLE STIFFNESS (...</td>\n",
              "      <td>3479634</td>\n",
              "      <td>FDJ</td>\n",
              "      <td>CAE</td>\n",
              "      <td>NaN</td>\n",
              "      <td>22-nov-17</td>\n",
              "      <td>NaN</td>\n",
              "      <td>21-nov-17</td>\n",
              "      <td>NaN</td>\n",
              "      <td>See Requirement and DVM</td>\n",
              "      <td>Complete/comply</td>\n",
              "      <td>NaN</td>\n",
              "      <td>COMPLY</td>\n",
              "      <td>NaN</td>\n",
              "    </tr>\n",
              "    <tr>\n",
              "      <th>20</th>\n",
              "      <td>213 Console</td>\n",
              "      <td>'IP-0035</td>\n",
              "      <td>NATURAL FREQ. - CONSOLE IN VEHICLE</td>\n",
              "      <td>CX483 Console</td>\n",
              "      <td>NaN</td>\n",
              "      <td>NATURAL FREQUENCY OF INSTRUMENT PANEL SYSTEM (...</td>\n",
              "      <td>3479619</td>\n",
              "      <td>FDJ</td>\n",
              "      <td>CAE</td>\n",
              "      <td>NaN</td>\n",
              "      <td>08-nov-17</td>\n",
              "      <td>NaN</td>\n",
              "      <td>09-oct-17</td>\n",
              "      <td>NaN</td>\n",
              "      <td>See Requirement and DVM</td>\n",
              "      <td>Approved Deviation LJ7-S-0030</td>\n",
              "      <td>NaN</td>\n",
              "      <td>DEVIATION</td>\n",
              "      <td>NaN</td>\n",
              "    </tr>\n",
              "    <tr>\n",
              "      <th>35</th>\n",
              "      <td>213 Console</td>\n",
              "      <td>'IP-0053</td>\n",
              "      <td>SECURE STOWAGE, COMPARTMENT DOORS, AND ELECTRO...</td>\n",
              "      <td>CX483 Console</td>\n",
              "      <td>NaN</td>\n",
              "      <td>IP GAP ASSESMENT USING CAD/CAE EVALUATION</td>\n",
              "      <td>3479633</td>\n",
              "      <td>FDJ</td>\n",
              "      <td>CAD/DIGIBUCK</td>\n",
              "      <td>NaN</td>\n",
              "      <td>08-nov-17</td>\n",
              "      <td>NaN</td>\n",
              "      <td>30-oct-17</td>\n",
              "      <td>NaN</td>\n",
              "      <td>CAD Check</td>\n",
              "      <td>Complete/comply</td>\n",
              "      <td>NaN</td>\n",
              "      <td>COMPLY</td>\n",
              "      <td>NaN</td>\n",
              "    </tr>\n",
              "    <tr>\n",
              "      <th>43</th>\n",
              "      <td>213 Console</td>\n",
              "      <td>'IP-0122</td>\n",
              "      <td>IP AND CONSOLE VEHICLE INSTALLATION</td>\n",
              "      <td>CX483 Console</td>\n",
              "      <td>NaN</td>\n",
              "      <td>DESIGN REVIEW</td>\n",
              "      <td>3479638</td>\n",
              "      <td>FDJ</td>\n",
              "      <td>CAD/DIGIBUCK</td>\n",
              "      <td>NaN</td>\n",
              "      <td>08-nov-17</td>\n",
              "      <td>NaN</td>\n",
              "      <td>09-oct-17</td>\n",
              "      <td>NaN</td>\n",
              "      <td>See Requirement and DVM</td>\n",
              "      <td>complete/comply</td>\n",
              "      <td>NaN</td>\n",
              "      <td>COMPLY</td>\n",
              "      <td>NaN</td>\n",
              "    </tr>\n",
              "    <tr>\n",
              "      <th>44</th>\n",
              "      <td>213 Console</td>\n",
              "      <td>'IP-0126</td>\n",
              "      <td>GUIDELINE FOR IP AND CONSOLE MODULARITY</td>\n",
              "      <td>CX483 Console</td>\n",
              "      <td>NaN</td>\n",
              "      <td>DESIGN REVIEW</td>\n",
              "      <td>3479639</td>\n",
              "      <td>FDJ</td>\n",
              "      <td>CAD/DIGIBUCK</td>\n",
              "      <td>NaN</td>\n",
              "      <td>08-nov-17</td>\n",
              "      <td>NaN</td>\n",
              "      <td>18-oct-17</td>\n",
              "      <td>NaN</td>\n",
              "      <td>See Requirement and DVM</td>\n",
              "      <td>complete/comply</td>\n",
              "      <td>NaN</td>\n",
              "      <td>COMPLY</td>\n",
              "      <td>NaN</td>\n",
              "    </tr>\n",
              "    <tr>\n",
              "      <th>49</th>\n",
              "      <td>213 Console</td>\n",
              "      <td>'IP-0132</td>\n",
              "      <td>CENTER CONSOLE POWER CORD CLEARANCE</td>\n",
              "      <td>CX483 Console</td>\n",
              "      <td>NaN</td>\n",
              "      <td>CAD-PRINT CHECK</td>\n",
              "      <td>3479643</td>\n",
              "      <td>FDJ</td>\n",
              "      <td>CAD/DIGIBUCK</td>\n",
              "      <td>NaN</td>\n",
              "      <td>08-nov-17</td>\n",
              "      <td>NaN</td>\n",
              "      <td>09-oct-17</td>\n",
              "      <td>NaN</td>\n",
              "      <td>See Requirement and DVM</td>\n",
              "      <td>Complete/Comply</td>\n",
              "      <td>NaN</td>\n",
              "      <td>COMPLY</td>\n",
              "      <td>NaN</td>\n",
              "    </tr>\n",
              "    <tr>\n",
              "      <th>52</th>\n",
              "      <td>213 Console</td>\n",
              "      <td>'IP-0139</td>\n",
              "      <td>COMPONENT ADHESION: INSTRUMENT PANEL AND CONSOLE</td>\n",
              "      <td>CX483 Console</td>\n",
              "      <td>NaN</td>\n",
              "      <td>DESIGN REVIEW</td>\n",
              "      <td>3479640</td>\n",
              "      <td>FDJ</td>\n",
              "      <td>CAD/DIGIBUCK</td>\n",
              "      <td>NaN</td>\n",
              "      <td>08-nov-17</td>\n",
              "      <td>NaN</td>\n",
              "      <td>09-oct-17</td>\n",
              "      <td>NaN</td>\n",
              "      <td>See Requirement and DVM</td>\n",
              "      <td>Complete/Comply</td>\n",
              "      <td>NaN</td>\n",
              "      <td>COMPLY</td>\n",
              "      <td>NaN</td>\n",
              "    </tr>\n",
              "    <tr>\n",
              "      <th>53</th>\n",
              "      <td>213 Console</td>\n",
              "      <td>'IP-0140</td>\n",
              "      <td>SHEET METAL PUNCHED HOLE QUALITY</td>\n",
              "      <td>CX483 Console</td>\n",
              "      <td>NaN</td>\n",
              "      <td>DESIGN REVIEW</td>\n",
              "      <td>3479641</td>\n",
              "      <td>FDJ</td>\n",
              "      <td>CAD/DIGIBUCK</td>\n",
              "      <td>NaN</td>\n",
              "      <td>08-nov-17</td>\n",
              "      <td>NaN</td>\n",
              "      <td>09-oct-17</td>\n",
              "      <td>NaN</td>\n",
              "      <td>See Requirement and DVM</td>\n",
              "      <td>Complete/Comply</td>\n",
              "      <td>NaN</td>\n",
              "      <td>COMPLY</td>\n",
              "      <td>NaN</td>\n",
              "    </tr>\n",
              "    <tr>\n",
              "      <th>55</th>\n",
              "      <td>213 Console</td>\n",
              "      <td>'IP-0141</td>\n",
              "      <td>SWITCH SYSTEM PUSH FORCE RESISTANCE</td>\n",
              "      <td>CX483 Console</td>\n",
              "      <td>NaN</td>\n",
              "      <td>SWITCH SYSTEM PUSH FORCE RESISTANCE (CAE)</td>\n",
              "      <td>3479655</td>\n",
              "      <td>FDJ</td>\n",
              "      <td>CAE</td>\n",
              "      <td>NaN</td>\n",
              "      <td>08-nov-17</td>\n",
              "      <td>NaN</td>\n",
              "      <td>09-oct-17</td>\n",
              "      <td>NaN</td>\n",
              "      <td>See Requirement and DVM</td>\n",
              "      <td>Complete/Comply</td>\n",
              "      <td>NaN</td>\n",
              "      <td>COMPLY</td>\n",
              "      <td>NaN</td>\n",
              "    </tr>\n",
              "    <tr>\n",
              "      <th>57</th>\n",
              "      <td>213 Console</td>\n",
              "      <td>'IP-0143</td>\n",
              "      <td>FLOOR CONSOLE STORAGE - CRITICAL TO QUALITY</td>\n",
              "      <td>CX483 Console</td>\n",
              "      <td>NaN</td>\n",
              "      <td>IP GAP ASSESMENT USING CAD/CAE EVALUATION</td>\n",
              "      <td>3479647</td>\n",
              "      <td>FDJ</td>\n",
              "      <td>CAD/DIGIBUCK</td>\n",
              "      <td>NaN</td>\n",
              "      <td>08-nov-17</td>\n",
              "      <td>NaN</td>\n",
              "      <td>12-oct-17</td>\n",
              "      <td>NaN</td>\n",
              "      <td>See Requirement and DVM</td>\n",
              "      <td>complete/comply</td>\n",
              "      <td>NaN</td>\n",
              "      <td>COMPLY</td>\n",
              "      <td>NaN</td>\n",
              "    </tr>\n",
              "    <tr>\n",
              "      <th>58</th>\n",
              "      <td>213 Console</td>\n",
              "      <td>'IP-0144</td>\n",
              "      <td>CUP HOLDER - STABILITY</td>\n",
              "      <td>CX483 Console</td>\n",
              "      <td>NaN</td>\n",
              "      <td>CUP HOLDER STABILITY (CAE)</td>\n",
              "      <td>3479656</td>\n",
              "      <td>FDJ</td>\n",
              "      <td>CAE</td>\n",
              "      <td>NaN</td>\n",
              "      <td>08-nov-17</td>\n",
              "      <td>NaN</td>\n",
              "      <td>12-oct-17</td>\n",
              "      <td>NaN</td>\n",
              "      <td>See Requirement and DVM</td>\n",
              "      <td>complete/comply</td>\n",
              "      <td>NaN</td>\n",
              "      <td>COMPLY</td>\n",
              "      <td>NaN</td>\n",
              "    </tr>\n",
              "    <tr>\n",
              "      <th>59</th>\n",
              "      <td>213 Console</td>\n",
              "      <td>'IP-0154</td>\n",
              "      <td>DVA CONFORMANCE FOR IP AND CONSOLE COMPOENTS</td>\n",
              "      <td>CX483 Console</td>\n",
              "      <td>NaN</td>\n",
              "      <td>IP GAP ASSESMENT USING CAD/CAE EVALUATION</td>\n",
              "      <td>3479669</td>\n",
              "      <td>FDJ</td>\n",
              "      <td>CAD/DIGIBUCK</td>\n",
              "      <td>NaN</td>\n",
              "      <td>08-nov-17</td>\n",
              "      <td>NaN</td>\n",
              "      <td>18-oct-17</td>\n",
              "      <td>NaN</td>\n",
              "      <td>DVA Calculations on all Margins.</td>\n",
              "      <td>complete/comply</td>\n",
              "      <td>NaN</td>\n",
              "      <td>COMPLY</td>\n",
              "      <td>NaN</td>\n",
              "    </tr>\n",
              "    <tr>\n",
              "      <th>64</th>\n",
              "      <td>213 Console</td>\n",
              "      <td>'IP-0158</td>\n",
              "      <td>CUP HOLDER -  FEATURES  (NON-CTQ)</td>\n",
              "      <td>CX483 Console</td>\n",
              "      <td>NaN</td>\n",
              "      <td>CAD-PRINT CHECK</td>\n",
              "      <td>3479644</td>\n",
              "      <td>FDJ</td>\n",
              "      <td>CAD/DIGIBUCK</td>\n",
              "      <td>NaN</td>\n",
              "      <td>08-nov-17</td>\n",
              "      <td>NaN</td>\n",
              "      <td>12-oct-17</td>\n",
              "      <td>NaN</td>\n",
              "      <td>See Requirement and DVM</td>\n",
              "      <td>complete/comply</td>\n",
              "      <td>NaN</td>\n",
              "      <td>COMPLY</td>\n",
              "      <td>NaN</td>\n",
              "    </tr>\n",
              "    <tr>\n",
              "      <th>65</th>\n",
              "      <td>213 Console</td>\n",
              "      <td>'IP-0159</td>\n",
              "      <td>CLEARANCE TO ELECTRONIC MODULES</td>\n",
              "      <td>CX483 Console</td>\n",
              "      <td>NaN</td>\n",
              "      <td>CAD-PRINT CHECK</td>\n",
              "      <td>3479645</td>\n",
              "      <td>FDJ</td>\n",
              "      <td>CAD/DIGIBUCK</td>\n",
              "      <td>NaN</td>\n",
              "      <td>08-nov-17</td>\n",
              "      <td>NaN</td>\n",
              "      <td>24-oct-17</td>\n",
              "      <td>NaN</td>\n",
              "      <td>See Requirement and DVM</td>\n",
              "      <td>complete/comply</td>\n",
              "      <td>NaN</td>\n",
              "      <td>COMPLY</td>\n",
              "      <td>NaN</td>\n",
              "    </tr>\n",
              "    <tr>\n",
              "      <th>66</th>\n",
              "      <td>213 Console</td>\n",
              "      <td>'IP-0160</td>\n",
              "      <td>FRONT LOWER CENTER STORAGE BIN - CRITICAL TO Q...</td>\n",
              "      <td>CX483 Console</td>\n",
              "      <td>NaN</td>\n",
              "      <td>IP GAP ASSESMENT USING CAD/CAE EVALUATION</td>\n",
              "      <td>3479648</td>\n",
              "      <td>FDJ</td>\n",
              "      <td>CAD/DIGIBUCK</td>\n",
              "      <td>NaN</td>\n",
              "      <td>08-nov-17</td>\n",
              "      <td>NaN</td>\n",
              "      <td>12-oct-17</td>\n",
              "      <td>NaN</td>\n",
              "      <td>See Requirement and DVM</td>\n",
              "      <td>complete/comply</td>\n",
              "      <td>NaN</td>\n",
              "      <td>COMPLY</td>\n",
              "      <td>NaN</td>\n",
              "    </tr>\n",
              "    <tr>\n",
              "      <th>68</th>\n",
              "      <td>213 Console</td>\n",
              "      <td>'IP-0161</td>\n",
              "      <td>FLOOR CONSOLE MAIN BIN EXECUTION AND LOCATION</td>\n",
              "      <td>CX483 Console</td>\n",
              "      <td>NaN</td>\n",
              "      <td>IP GAP ASSESMENT USING CAD/CAE EVALUATION</td>\n",
              "      <td>3479649</td>\n",
              "      <td>FDJ</td>\n",
              "      <td>CAD/DIGIBUCK</td>\n",
              "      <td>NaN</td>\n",
              "      <td>08-nov-17</td>\n",
              "      <td>NaN</td>\n",
              "      <td>12-oct-17</td>\n",
              "      <td>NaN</td>\n",
              "      <td>See Requirement and DVM</td>\n",
              "      <td>complete/comply</td>\n",
              "      <td>NaN</td>\n",
              "      <td>COMPLY</td>\n",
              "      <td>NaN</td>\n",
              "    </tr>\n",
              "    <tr>\n",
              "      <th>74</th>\n",
              "      <td>213 Console</td>\n",
              "      <td>'IT-0014</td>\n",
              "      <td>HARD TRIM INTERFACES AND JOINTS</td>\n",
              "      <td>CX483 Console</td>\n",
              "      <td>NaN</td>\n",
              "      <td>CAD-PRINT CHECK</td>\n",
              "      <td>3479646</td>\n",
              "      <td>FDJ</td>\n",
              "      <td>CAD/DIGIBUCK</td>\n",
              "      <td>NaN</td>\n",
              "      <td>08-nov-17</td>\n",
              "      <td>NaN</td>\n",
              "      <td>09-oct-17</td>\n",
              "      <td>NaN</td>\n",
              "      <td>Check clearances between hard to hard componen...</td>\n",
              "      <td>complete/comply</td>\n",
              "      <td>NaN</td>\n",
              "      <td>COMPLY</td>\n",
              "      <td>NaN</td>\n",
              "    </tr>\n",
              "    <tr>\n",
              "      <th>84</th>\n",
              "      <td>213 Console</td>\n",
              "      <td>'CX-0028</td>\n",
              "      <td>CONTROLS: MOUNTING FEATURES &amp; LOCATION</td>\n",
              "      <td>CX483 Console</td>\n",
              "      <td>NaN</td>\n",
              "      <td>DESIGN REVIEW</td>\n",
              "      <td>3479615</td>\n",
              "      <td>FDJ</td>\n",
              "      <td>CAD/DIGIBUCK</td>\n",
              "      <td>NaN</td>\n",
              "      <td>08-nov-17</td>\n",
              "      <td>NaN</td>\n",
              "      <td>18-oct-17</td>\n",
              "      <td>NaN</td>\n",
              "      <td>Complete Design Review Evaluation Form (See DV...</td>\n",
              "      <td>complete/comply;</td>\n",
              "      <td>NaN</td>\n",
              "      <td>COMPLY</td>\n",
              "      <td>NaN</td>\n",
              "    </tr>\n",
              "  </tbody>\n",
              "</table>\n",
              "</div>"
            ],
            "text/plain": [
              "    DVP Team    Rqmt ID      \\\n",
              "0   213 Console    '08-0352   \n",
              "2   213 Console    '19-0108   \n",
              "4   213 Console    'CC-0005   \n",
              "7   213 Console    'IF-0302   \n",
              "9   213 Console    'IP-0004   \n",
              "11  213 Console    'IP-0020   \n",
              "15  213 Console    'IP-0026   \n",
              "17  213 Console    'IP-0034   \n",
              "20  213 Console    'IP-0035   \n",
              "35  213 Console    'IP-0053   \n",
              "43  213 Console    'IP-0122   \n",
              "44  213 Console    'IP-0126   \n",
              "49  213 Console    'IP-0132   \n",
              "52  213 Console    'IP-0139   \n",
              "53  213 Console    'IP-0140   \n",
              "55  213 Console    'IP-0141   \n",
              "57  213 Console    'IP-0143   \n",
              "58  213 Console    'IP-0144   \n",
              "59  213 Console    'IP-0154   \n",
              "64  213 Console    'IP-0158   \n",
              "65  213 Console    'IP-0159   \n",
              "66  213 Console    'IP-0160   \n",
              "68  213 Console    'IP-0161   \n",
              "74  213 Console    'IT-0014   \n",
              "84  213 Console    'CX-0028   \n",
              "\n",
              "                                          Rqmt Title  Min Feat Desc    \\\n",
              "0   SQUEAK & RATTLE TRUSTMARK (INCLUDES MTRL. COMP...   CX483 Console   \n",
              "2            DIRECTIVE E-108: GLOBAL PARTS TRADEMARKS   CX483 Console   \n",
              "4                         REGISTERS - DESIGN CRITERIA   CX483 Console   \n",
              "7   USA/CDN INTERIOR COMPARTMENT DOOR LATCH INERTI...   CX483 Console   \n",
              "9   IP AND FLOOR CONSOLE MAXIMUM DEFLECTION FOR QU...   CX483 Console   \n",
              "11                            CUP HOLDER -  EXECUTION   CX483 Console   \n",
              "15                          IP/CONSOLE SERVICEABILITY   CX483 Console   \n",
              "17                         CONSOLE SYSTEM - STIFFNESS   CX483 Console   \n",
              "20                 NATURAL FREQ. - CONSOLE IN VEHICLE   CX483 Console   \n",
              "35  SECURE STOWAGE, COMPARTMENT DOORS, AND ELECTRO...   CX483 Console   \n",
              "43                IP AND CONSOLE VEHICLE INSTALLATION   CX483 Console   \n",
              "44            GUIDELINE FOR IP AND CONSOLE MODULARITY   CX483 Console   \n",
              "49                CENTER CONSOLE POWER CORD CLEARANCE   CX483 Console   \n",
              "52   COMPONENT ADHESION: INSTRUMENT PANEL AND CONSOLE   CX483 Console   \n",
              "53                   SHEET METAL PUNCHED HOLE QUALITY   CX483 Console   \n",
              "55                SWITCH SYSTEM PUSH FORCE RESISTANCE   CX483 Console   \n",
              "57        FLOOR CONSOLE STORAGE - CRITICAL TO QUALITY   CX483 Console   \n",
              "58                             CUP HOLDER - STABILITY   CX483 Console   \n",
              "59       DVA CONFORMANCE FOR IP AND CONSOLE COMPOENTS   CX483 Console   \n",
              "64                  CUP HOLDER -  FEATURES  (NON-CTQ)   CX483 Console   \n",
              "65                    CLEARANCE TO ELECTRONIC MODULES   CX483 Console   \n",
              "66  FRONT LOWER CENTER STORAGE BIN - CRITICAL TO Q...   CX483 Console   \n",
              "68      FLOOR CONSOLE MAIN BIN EXECUTION AND LOCATION   CX483 Console   \n",
              "74                    HARD TRIM INTERFACES AND JOINTS   CX483 Console   \n",
              "84             CONTROLS: MOUNTING FEATURES & LOCATION   CX483 Console   \n",
              "\n",
              "   Target (Min:Nom:Max)                                         DVM Title      \\\n",
              "0                      NaN        MATL COMPATIBILITY & CLEARANCE CHECKER TOOL   \n",
              "2                      NaN                                    CAD-PRINT CHECK   \n",
              "4                      NaN                                      DESIGN REVIEW   \n",
              "7                      NaN                                        CALCULATION   \n",
              "9                      NaN                    IP AND CENTER CONSOLE STIFFNESS   \n",
              "11                     NaN                                    CAD-PRINT CHECK   \n",
              "15                     NaN  Subject Matter Expert Evaluation for Service R...   \n",
              "17                     NaN  INSTRUMENT PANEL AND FLOOR CONSOLE STIFFNESS (...   \n",
              "20                     NaN  NATURAL FREQUENCY OF INSTRUMENT PANEL SYSTEM (...   \n",
              "35                     NaN          IP GAP ASSESMENT USING CAD/CAE EVALUATION   \n",
              "43                     NaN                                      DESIGN REVIEW   \n",
              "44                     NaN                                      DESIGN REVIEW   \n",
              "49                     NaN                                    CAD-PRINT CHECK   \n",
              "52                     NaN                                      DESIGN REVIEW   \n",
              "53                     NaN                                      DESIGN REVIEW   \n",
              "55                     NaN          SWITCH SYSTEM PUSH FORCE RESISTANCE (CAE)   \n",
              "57                     NaN          IP GAP ASSESMENT USING CAD/CAE EVALUATION   \n",
              "58                     NaN                         CUP HOLDER STABILITY (CAE)   \n",
              "59                     NaN          IP GAP ASSESMENT USING CAD/CAE EVALUATION   \n",
              "64                     NaN                                    CAD-PRINT CHECK   \n",
              "65                     NaN                                    CAD-PRINT CHECK   \n",
              "66                     NaN          IP GAP ASSESMENT USING CAD/CAE EVALUATION   \n",
              "68                     NaN          IP GAP ASSESMENT USING CAD/CAE EVALUATION   \n",
              "74                     NaN                                    CAD-PRINT CHECK   \n",
              "84                     NaN                                      DESIGN REVIEW   \n",
              "\n",
              "    Rqst ID     Reporting Milestone     Rqstd Proto Type    Sched Start    \\\n",
              "0       3479635                     FDJ                 CAE           NaN   \n",
              "2       3479627                     FDJ        CAD/DIGIBUCK           NaN   \n",
              "4       3479613                     FDJ        CAD/DIGIBUCK           NaN   \n",
              "7       3557775                     FDJ        CAD/DIGIBUCK           NaN   \n",
              "9       3479611                     FDJ                 CAE           NaN   \n",
              "11      3479628                     FDJ        CAD/DIGIBUCK           NaN   \n",
              "15      3479612                     FDJ        CAD/DIGIBUCK           NaN   \n",
              "17      3479634                     FDJ                 CAE           NaN   \n",
              "20      3479619                     FDJ                 CAE           NaN   \n",
              "35      3479633                     FDJ        CAD/DIGIBUCK           NaN   \n",
              "43      3479638                     FDJ        CAD/DIGIBUCK           NaN   \n",
              "44      3479639                     FDJ        CAD/DIGIBUCK           NaN   \n",
              "49      3479643                     FDJ        CAD/DIGIBUCK           NaN   \n",
              "52      3479640                     FDJ        CAD/DIGIBUCK           NaN   \n",
              "53      3479641                     FDJ        CAD/DIGIBUCK           NaN   \n",
              "55      3479655                     FDJ                 CAE           NaN   \n",
              "57      3479647                     FDJ        CAD/DIGIBUCK           NaN   \n",
              "58      3479656                     FDJ                 CAE           NaN   \n",
              "59      3479669                     FDJ        CAD/DIGIBUCK           NaN   \n",
              "64      3479644                     FDJ        CAD/DIGIBUCK           NaN   \n",
              "65      3479645                     FDJ        CAD/DIGIBUCK           NaN   \n",
              "66      3479648                     FDJ        CAD/DIGIBUCK           NaN   \n",
              "68      3479649                     FDJ        CAD/DIGIBUCK           NaN   \n",
              "74      3479646                     FDJ        CAD/DIGIBUCK           NaN   \n",
              "84      3479615                     FDJ        CAD/DIGIBUCK           NaN   \n",
              "\n",
              "   Sched Finish    Actual Start    Actual Finish    Test Rprt Num    \\\n",
              "0        15-nov-17             NaN       13-nov-17              NaN   \n",
              "2        08-nov-17             NaN       18-oct-17              NaN   \n",
              "4        22-nov-17             NaN       20-nov-17              NaN   \n",
              "7        08-nov-17             NaN       30-oct-17              NaN   \n",
              "9        22-nov-17             NaN       21-nov-17              NaN   \n",
              "11       08-nov-17             NaN       12-oct-17              NaN   \n",
              "15       08-nov-17             NaN       09-oct-17              NaN   \n",
              "17       22-nov-17             NaN       21-nov-17              NaN   \n",
              "20       08-nov-17             NaN       09-oct-17              NaN   \n",
              "35       08-nov-17             NaN       30-oct-17              NaN   \n",
              "43       08-nov-17             NaN       09-oct-17              NaN   \n",
              "44       08-nov-17             NaN       18-oct-17              NaN   \n",
              "49       08-nov-17             NaN       09-oct-17              NaN   \n",
              "52       08-nov-17             NaN       09-oct-17              NaN   \n",
              "53       08-nov-17             NaN       09-oct-17              NaN   \n",
              "55       08-nov-17             NaN       09-oct-17              NaN   \n",
              "57       08-nov-17             NaN       12-oct-17              NaN   \n",
              "58       08-nov-17             NaN       12-oct-17              NaN   \n",
              "59       08-nov-17             NaN       18-oct-17              NaN   \n",
              "64       08-nov-17             NaN       12-oct-17              NaN   \n",
              "65       08-nov-17             NaN       24-oct-17              NaN   \n",
              "66       08-nov-17             NaN       12-oct-17              NaN   \n",
              "68       08-nov-17             NaN       12-oct-17              NaN   \n",
              "74       08-nov-17             NaN       09-oct-17              NaN   \n",
              "84       08-nov-17             NaN       18-oct-17              NaN   \n",
              "\n",
              "                                      Results Needed   \\\n",
              "0                                See Requirement Text   \n",
              "2                                           pass/fail   \n",
              "4                       See Detail & Requirement Text   \n",
              "7   SAE Recommended Practice J839b, section 5 \"Ine...   \n",
              "9   See Requirement and DVM;Deflection (mm) at 22 ...   \n",
              "11                            See Requirement and DVM   \n",
              "15                                 Service Labor Time   \n",
              "17                            See Requirement and DVM   \n",
              "20                            See Requirement and DVM   \n",
              "35                                          CAD Check   \n",
              "43                            See Requirement and DVM   \n",
              "44                            See Requirement and DVM   \n",
              "49                            See Requirement and DVM   \n",
              "52                            See Requirement and DVM   \n",
              "53                            See Requirement and DVM   \n",
              "55                            See Requirement and DVM   \n",
              "57                            See Requirement and DVM   \n",
              "58                            See Requirement and DVM   \n",
              "59                   DVA Calculations on all Margins.   \n",
              "64                            See Requirement and DVM   \n",
              "65                            See Requirement and DVM   \n",
              "66                            See Requirement and DVM   \n",
              "68                            See Requirement and DVM   \n",
              "74  Check clearances between hard to hard componen...   \n",
              "84  Complete Design Review Evaluation Form (See DV...   \n",
              "\n",
              "             Results Generated     Summary Results     Risk Status  \\\n",
              "0                 complete/comply                  NaN      COMPLY   \n",
              "2                 complete/comply                  NaN      COMPLY   \n",
              "4                 Complete/comply                  NaN      COMPLY   \n",
              "7                 Complete/comply                  NaN      COMPLY   \n",
              "9                Complete/comply;                  NaN      COMPLY   \n",
              "11                complete/comply                  NaN      COMPLY   \n",
              "15                Complete/Comply                  NaN      COMPLY   \n",
              "17                Complete/comply                  NaN      COMPLY   \n",
              "20  Approved Deviation LJ7-S-0030                  NaN   DEVIATION   \n",
              "35                Complete/comply                  NaN      COMPLY   \n",
              "43                complete/comply                  NaN      COMPLY   \n",
              "44                complete/comply                  NaN      COMPLY   \n",
              "49                Complete/Comply                  NaN      COMPLY   \n",
              "52                Complete/Comply                  NaN      COMPLY   \n",
              "53                Complete/Comply                  NaN      COMPLY   \n",
              "55                Complete/Comply                  NaN      COMPLY   \n",
              "57                complete/comply                  NaN      COMPLY   \n",
              "58                complete/comply                  NaN      COMPLY   \n",
              "59                complete/comply                  NaN      COMPLY   \n",
              "64                complete/comply                  NaN      COMPLY   \n",
              "65                complete/comply                  NaN      COMPLY   \n",
              "66                complete/comply                  NaN      COMPLY   \n",
              "68                complete/comply                  NaN      COMPLY   \n",
              "74                complete/comply                  NaN      COMPLY   \n",
              "84               complete/comply;                  NaN      COMPLY   \n",
              "\n",
              "    Concern Num  \n",
              "0           NaN  \n",
              "2           NaN  \n",
              "4           NaN  \n",
              "7           NaN  \n",
              "9           NaN  \n",
              "11          NaN  \n",
              "15          NaN  \n",
              "17          NaN  \n",
              "20          NaN  \n",
              "35          NaN  \n",
              "43          NaN  \n",
              "44          NaN  \n",
              "49          NaN  \n",
              "52          NaN  \n",
              "53          NaN  \n",
              "55          NaN  \n",
              "57          NaN  \n",
              "58          NaN  \n",
              "59          NaN  \n",
              "64          NaN  \n",
              "65          NaN  \n",
              "66          NaN  \n",
              "68          NaN  \n",
              "74          NaN  \n",
              "84          NaN  "
            ]
          },
          "execution_count": 92,
          "metadata": {},
          "output_type": "execute_result"
        }
      ],
      "source": [
        "df_FDJ"
      ]
    },
    {
      "cell_type": "code",
      "execution_count": null,
      "id": "8b0ab29f",
      "metadata": {
        "id": "8b0ab29f",
        "outputId": "410a8659-ef2d-45ce-a226-ba52da517a85"
      },
      "outputs": [
        {
          "name": "stderr",
          "output_type": "stream",
          "text": [
            "<ipython-input-94-4bf608230f89>:1: FutureWarning: As the xlwt package is no longer maintained, the xlwt engine will be removed in a future version of pandas. This is the only engine in pandas that supports writing in the xls format. Install openpyxl and write to an xlsx file instead. You can set the option io.excel.xls.writer to 'xlwt' to silence this warning. While this option is deprecated and will also raise a warning, it can be globally set and the warning suppressed.\n",
            "  df_FDJ.to_excel(\"FDJ_report.xls\")\n"
          ]
        }
      ],
      "source": [
        "df_FDJ.to_excel(\"FDJ_report.xls\")"
      ]
    },
    {
      "cell_type": "code",
      "execution_count": null,
      "id": "ea15dbc6",
      "metadata": {
        "id": "ea15dbc6",
        "outputId": "4b7826d5-ca94-449a-c172-2b67580119b1"
      },
      "outputs": [
        {
          "name": "stdout",
          "output_type": "stream",
          "text": [
            " Volume in drive C is OSDisk\n",
            " Volume Serial Number is 12B3-4442\n",
            "\n",
            " Directory of C:\\Users\\LRIOSPIE\\CyDD\\IBM_Course\n",
            "\n",
            "24/09/2022  03:38 p. m.    <DIR>          .\n",
            "24/09/2022  03:38 p. m.    <DIR>          ..\n",
            "24/09/2022  01:26 p. m.    <DIR>          .ipynb_checkpoints\n",
            "16/09/2022  06:27 p. m.            20,125 A00453954_Act1_Mod1.ipynb\n",
            "24/09/2022  01:42 p. m.                12 Example.txt\n",
            "24/09/2022  01:51 p. m.                18 Example_2.txt\n",
            "24/09/2022  02:54 p. m.               121 Example_3.txt\n",
            "24/09/2022  02:00 p. m.                60 Example_4.txt\n",
            "24/09/2022  03:38 p. m.            13,824 FDJ_report.xls\n",
            "11/07/2022  08:05 a. m.            27,169 PMT DVPR Tab_213 Console.csv\n",
            "24/09/2022  03:38 p. m.            80,011 Untitled.ipynb\n",
            "               8 File(s)        141,340 bytes\n",
            "               3 Dir(s)  155,276,644,352 bytes free\n"
          ]
        }
      ],
      "source": [
        "ls"
      ]
    },
    {
      "cell_type": "code",
      "execution_count": null,
      "id": "1c243532",
      "metadata": {
        "id": "1c243532"
      },
      "outputs": [],
      "source": []
    }
  ],
  "metadata": {
    "kernelspec": {
      "display_name": "Python 3",
      "language": "python",
      "name": "python3"
    },
    "language_info": {
      "codemirror_mode": {
        "name": "ipython",
        "version": 3
      },
      "file_extension": ".py",
      "mimetype": "text/x-python",
      "name": "python",
      "nbconvert_exporter": "python",
      "pygments_lexer": "ipython3",
      "version": "3.8.8"
    },
    "colab": {
      "provenance": [],
      "include_colab_link": true
    }
  },
  "nbformat": 4,
  "nbformat_minor": 5
}