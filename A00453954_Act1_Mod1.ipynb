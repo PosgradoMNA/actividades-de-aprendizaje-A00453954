{
 "cells": [
  {
   "cell_type": "code",
   "execution_count": 1,
   "id": "2c4bae65",
   "metadata": {},
   "outputs": [
    {
     "name": "stdout",
     "output_type": "stream",
     "text": [
      "HELLO PYTHON 101\n"
     ]
    }
   ],
   "source": [
    "#WILL PRINT \"MESSAGE\"\n",
    "print(\"HELLO PYTHON 101\")"
   ]
  },
  {
   "cell_type": "code",
   "execution_count": 2,
   "id": "d75f2feb",
   "metadata": {},
   "outputs": [
    {
     "name": "stdout",
     "output_type": "stream",
     "text": [
      "HELLO \n",
      " PYTHON 101\n"
     ]
    }
   ],
   "source": [
    "print(\"HELLO \\n PYTHON 101\")"
   ]
  },
  {
   "cell_type": "code",
   "execution_count": 3,
   "id": "a2218fc5",
   "metadata": {},
   "outputs": [
    {
     "data": {
      "text/plain": [
       "1"
      ]
     },
     "execution_count": 3,
     "metadata": {},
     "output_type": "execute_result"
    }
   ],
   "source": [
    "int(1.0)"
   ]
  },
  {
   "cell_type": "code",
   "execution_count": 4,
   "id": "ccb556b7",
   "metadata": {
    "scrolled": true
   },
   "outputs": [
    {
     "data": {
      "text/plain": [
       "True"
      ]
     },
     "execution_count": 4,
     "metadata": {},
     "output_type": "execute_result"
    }
   ],
   "source": [
    "bool(1)"
   ]
  },
  {
   "cell_type": "code",
   "execution_count": 7,
   "id": "9c0d84fe",
   "metadata": {
    "scrolled": false
   },
   "outputs": [
    {
     "data": {
      "text/plain": [
       "115"
      ]
     },
     "execution_count": 7,
     "metadata": {},
     "output_type": "execute_result"
    }
   ],
   "source": [
    "40+60+15"
   ]
  },
  {
   "cell_type": "code",
   "execution_count": 8,
   "id": "6fa22f2d",
   "metadata": {},
   "outputs": [
    {
     "data": {
      "text/plain": [
       "25"
      ]
     },
     "execution_count": 8,
     "metadata": {},
     "output_type": "execute_result"
    }
   ],
   "source": [
    "5*5"
   ]
  },
  {
   "cell_type": "code",
   "execution_count": 9,
   "id": "e0e77ef9",
   "metadata": {},
   "outputs": [
    {
     "data": {
      "text/plain": [
       "8.333333333333334"
      ]
     },
     "execution_count": 9,
     "metadata": {},
     "output_type": "execute_result"
    }
   ],
   "source": [
    "25/3"
   ]
  },
  {
   "cell_type": "code",
   "execution_count": 10,
   "id": "2d65e4cd",
   "metadata": {},
   "outputs": [
    {
     "data": {
      "text/plain": [
       "8"
      ]
     },
     "execution_count": 10,
     "metadata": {},
     "output_type": "execute_result"
    }
   ],
   "source": [
    "25//3\n"
   ]
  },
  {
   "cell_type": "code",
   "execution_count": 11,
   "id": "e3b541c6",
   "metadata": {},
   "outputs": [
    {
     "data": {
      "text/plain": [
       "260"
      ]
     },
     "execution_count": 11,
     "metadata": {},
     "output_type": "execute_result"
    }
   ],
   "source": [
    "(25*10)+10"
   ]
  },
  {
   "cell_type": "code",
   "execution_count": 12,
   "id": "f5f093ec",
   "metadata": {},
   "outputs": [
    {
     "data": {
      "text/plain": [
       "500"
      ]
     },
     "execution_count": 12,
     "metadata": {},
     "output_type": "execute_result"
    }
   ],
   "source": [
    "25*(10+10)"
   ]
  },
  {
   "cell_type": "code",
   "execution_count": 13,
   "id": "13e5df15",
   "metadata": {},
   "outputs": [],
   "source": [
    "my_var=1"
   ]
  },
  {
   "cell_type": "code",
   "execution_count": 14,
   "id": "bb19756b",
   "metadata": {},
   "outputs": [
    {
     "data": {
      "text/plain": [
       "6"
      ]
     },
     "execution_count": 14,
     "metadata": {},
     "output_type": "execute_result"
    }
   ],
   "source": [
    "my_var+5"
   ]
  },
  {
   "cell_type": "code",
   "execution_count": 18,
   "id": "a2b6e476",
   "metadata": {},
   "outputs": [
    {
     "data": {
      "text/plain": [
       "6"
      ]
     },
     "execution_count": 18,
     "metadata": {},
     "output_type": "execute_result"
    }
   ],
   "source": [
    "my_var+5"
   ]
  },
  {
   "cell_type": "code",
   "execution_count": 19,
   "id": "f3b835de",
   "metadata": {},
   "outputs": [],
   "source": [
    "total_min=43+42+57"
   ]
  },
  {
   "cell_type": "code",
   "execution_count": 20,
   "id": "96b7d57e",
   "metadata": {},
   "outputs": [],
   "source": [
    "total_hr=total_min/60"
   ]
  },
  {
   "cell_type": "code",
   "execution_count": 21,
   "id": "8893a57b",
   "metadata": {},
   "outputs": [
    {
     "data": {
      "text/plain": [
       "2.3666666666666667"
      ]
     },
     "execution_count": 21,
     "metadata": {},
     "output_type": "execute_result"
    }
   ],
   "source": [
    "total_hr"
   ]
  },
  {
   "cell_type": "code",
   "execution_count": 24,
   "id": "005718d6",
   "metadata": {},
   "outputs": [],
   "source": [
    "total_min=43+42"
   ]
  },
  {
   "cell_type": "code",
   "execution_count": 25,
   "id": "3b1152b1",
   "metadata": {},
   "outputs": [
    {
     "data": {
      "text/plain": [
       "2.3666666666666667"
      ]
     },
     "execution_count": 25,
     "metadata": {},
     "output_type": "execute_result"
    }
   ],
   "source": [
    "total_hr"
   ]
  },
  {
   "cell_type": "code",
   "execution_count": 26,
   "id": "6e3e2858",
   "metadata": {},
   "outputs": [],
   "source": [
    "total_hr=total_min/60"
   ]
  },
  {
   "cell_type": "code",
   "execution_count": 27,
   "id": "fc2054c0",
   "metadata": {},
   "outputs": [
    {
     "data": {
      "text/plain": [
       "1.4166666666666667"
      ]
     },
     "execution_count": 27,
     "metadata": {},
     "output_type": "execute_result"
    }
   ],
   "source": [
    "total_hr"
   ]
  },
  {
   "cell_type": "code",
   "execution_count": 28,
   "id": "9625a048",
   "metadata": {},
   "outputs": [],
   "source": [
    "Numbers = \"0123456\""
   ]
  },
  {
   "cell_type": "code",
   "execution_count": 29,
   "id": "8937742e",
   "metadata": {},
   "outputs": [
    {
     "data": {
      "text/plain": [
       "'0246'"
      ]
     },
     "execution_count": 29,
     "metadata": {},
     "output_type": "execute_result"
    }
   ],
   "source": [
    "Numbers[::2]"
   ]
  },
  {
   "cell_type": "code",
   "execution_count": 35,
   "id": "5def83a7",
   "metadata": {},
   "outputs": [],
   "source": [
    "First_name= \"Fernando\"\n",
    "Last_name= \"-Rios\""
   ]
  },
  {
   "cell_type": "code",
   "execution_count": 36,
   "id": "0e6b5c96",
   "metadata": {},
   "outputs": [],
   "source": [
    "name= First_name +\" \"+ Last_name"
   ]
  },
  {
   "cell_type": "code",
   "execution_count": 37,
   "id": "fcc5b53a",
   "metadata": {},
   "outputs": [
    {
     "name": "stdout",
     "output_type": "stream",
     "text": [
      "Fernando -Rios\n"
     ]
    }
   ],
   "source": [
    "print(name)"
   ]
  },
  {
   "cell_type": "code",
   "execution_count": 38,
   "id": "a39ad203",
   "metadata": {},
   "outputs": [
    {
     "name": "stdout",
     "output_type": "stream",
     "text": [
      "Fernando\n",
      "-Rios\n"
     ]
    }
   ],
   "source": [
    "print(First_name +\"\\n\"+ Last_name )"
   ]
  },
  {
   "cell_type": "code",
   "execution_count": 39,
   "id": "c518da7d",
   "metadata": {},
   "outputs": [
    {
     "name": "stdout",
     "output_type": "stream",
     "text": [
      "Fernando\t-Rios\n"
     ]
    }
   ],
   "source": [
    "print(First_name +\"\\t\"+ Last_name )"
   ]
  },
  {
   "cell_type": "code",
   "execution_count": 40,
   "id": "045385c9",
   "metadata": {},
   "outputs": [],
   "source": [
    "A=\"Thriller is the sixth sutdio album\""
   ]
  },
  {
   "cell_type": "code",
   "execution_count": 41,
   "id": "36ef1670",
   "metadata": {},
   "outputs": [],
   "source": [
    "b=A.upper()"
   ]
  },
  {
   "cell_type": "code",
   "execution_count": 42,
   "id": "0c50b895",
   "metadata": {},
   "outputs": [
    {
     "data": {
      "text/plain": [
       "'THRILLER IS THE SIXTH SUTDIO ALBUM'"
      ]
     },
     "execution_count": 42,
     "metadata": {},
     "output_type": "execute_result"
    }
   ],
   "source": [
    "b"
   ]
  },
  {
   "cell_type": "code",
   "execution_count": 43,
   "id": "a9fd6fd0",
   "metadata": {},
   "outputs": [],
   "source": [
    "string_1=\"encuentra num1 en el string\""
   ]
  },
  {
   "cell_type": "code",
   "execution_count": 44,
   "id": "49cecfb6",
   "metadata": {},
   "outputs": [
    {
     "data": {
      "text/plain": [
       "10"
      ]
     },
     "execution_count": 44,
     "metadata": {},
     "output_type": "execute_result"
    }
   ],
   "source": [
    "string_1.find(\"num1\")"
   ]
  },
  {
   "cell_type": "code",
   "execution_count": 45,
   "id": "4a512364",
   "metadata": {},
   "outputs": [
    {
     "data": {
      "text/plain": [
       "7"
      ]
     },
     "execution_count": 45,
     "metadata": {},
     "output_type": "execute_result"
    }
   ],
   "source": [
    "3+2*2"
   ]
  },
  {
   "cell_type": "code",
   "execution_count": 46,
   "id": "47067d62",
   "metadata": {},
   "outputs": [],
   "source": [
    "name=\"Lizz\""
   ]
  },
  {
   "cell_type": "code",
   "execution_count": 47,
   "id": "85bff2a6",
   "metadata": {},
   "outputs": [
    {
     "name": "stdout",
     "output_type": "stream",
     "text": [
      "Li\n"
     ]
    }
   ],
   "source": [
    "print(name[0:2])"
   ]
  },
  {
   "cell_type": "code",
   "execution_count": 49,
   "id": "1acf11af",
   "metadata": {},
   "outputs": [],
   "source": [
    "tuple2=(\"disco\",10,1.2,\"rock\",11)"
   ]
  },
  {
   "cell_type": "code",
   "execution_count": 50,
   "id": "ac856725",
   "metadata": {},
   "outputs": [
    {
     "data": {
      "text/plain": [
       "('disco', 10, 1.2)"
      ]
     },
     "execution_count": 50,
     "metadata": {},
     "output_type": "execute_result"
    }
   ],
   "source": [
    "tuple2[0:3]"
   ]
  },
  {
   "cell_type": "code",
   "execution_count": 52,
   "id": "1580aaa3",
   "metadata": {},
   "outputs": [
    {
     "data": {
      "text/plain": [
       "(11, 'rock', 1.2, 10, 'disco')"
      ]
     },
     "execution_count": 52,
     "metadata": {},
     "output_type": "execute_result"
    }
   ],
   "source": [
    "tuple2[::-1]"
   ]
  },
  {
   "cell_type": "code",
   "execution_count": 54,
   "id": "7a47d904",
   "metadata": {},
   "outputs": [],
   "source": [
    "tuple3=(11, 'rock', (1.2, 10), 'disco')"
   ]
  },
  {
   "cell_type": "code",
   "execution_count": 55,
   "id": "5d9f5cc8",
   "metadata": {},
   "outputs": [
    {
     "data": {
      "text/plain": [
       "1.2"
      ]
     },
     "execution_count": 55,
     "metadata": {},
     "output_type": "execute_result"
    }
   ],
   "source": [
    "tuple3[2][0]"
   ]
  },
  {
   "cell_type": "code",
   "execution_count": 56,
   "id": "e08ce138",
   "metadata": {},
   "outputs": [],
   "source": [
    "list1=[\"JoeBiden\",(1,5),5.78,\"dog\"]"
   ]
  },
  {
   "cell_type": "code",
   "execution_count": 57,
   "id": "2b9aa61b",
   "metadata": {},
   "outputs": [
    {
     "data": {
      "text/plain": [
       "[5.78, 'dog']"
      ]
     },
     "execution_count": 57,
     "metadata": {},
     "output_type": "execute_result"
    }
   ],
   "source": [
    "list1[2:]"
   ]
  },
  {
   "cell_type": "code",
   "execution_count": 58,
   "id": "7a4f1f69",
   "metadata": {},
   "outputs": [],
   "source": [
    "list2=[\"Macrone\",(1,5),5.78,\"cat\"]"
   ]
  },
  {
   "cell_type": "code",
   "execution_count": 59,
   "id": "36e7352a",
   "metadata": {},
   "outputs": [],
   "source": [
    "list3=list1+list2"
   ]
  },
  {
   "cell_type": "code",
   "execution_count": 60,
   "id": "8b35dbf7",
   "metadata": {},
   "outputs": [
    {
     "data": {
      "text/plain": [
       "['JoeBiden', (1, 5), 5.78, 'dog', 'Macrone', (1, 5), 5.78, 'cat']"
      ]
     },
     "execution_count": 60,
     "metadata": {},
     "output_type": "execute_result"
    }
   ],
   "source": [
    "list3"
   ]
  },
  {
   "cell_type": "code",
   "execution_count": 62,
   "id": "bd5861e4",
   "metadata": {},
   "outputs": [
    {
     "data": {
      "text/plain": [
       "['JoeBiden',\n",
       " (1, 5),\n",
       " 5.78,\n",
       " 'dog',\n",
       " 'Macrone',\n",
       " (1, 5),\n",
       " 5.78,\n",
       " 'cat',\n",
       " 'horse',\n",
       " 'horse']"
      ]
     },
     "execution_count": 62,
     "metadata": {},
     "output_type": "execute_result"
    }
   ],
   "source": [
    "list3.extend([\"horse\"])\n",
    "list3"
   ]
  },
  {
   "cell_type": "code",
   "execution_count": 69,
   "id": "dd9b0662",
   "metadata": {},
   "outputs": [
    {
     "data": {
      "text/plain": [
       "['JoeBiden', (1, 5), 5.78, 'dog', 'Macrone', (1, 5)]"
      ]
     },
     "execution_count": 69,
     "metadata": {},
     "output_type": "execute_result"
    }
   ],
   "source": [
    "list3.pop()\n",
    "list3"
   ]
  },
  {
   "cell_type": "code",
   "execution_count": 70,
   "id": "07edb504",
   "metadata": {},
   "outputs": [],
   "source": [
    "string_NA=\"EU,Can,MEX\""
   ]
  },
  {
   "cell_type": "code",
   "execution_count": 71,
   "id": "d559c982",
   "metadata": {},
   "outputs": [
    {
     "data": {
      "text/plain": [
       "['EU', 'Can', 'MEX']"
      ]
     },
     "execution_count": 71,
     "metadata": {},
     "output_type": "execute_result"
    }
   ],
   "source": [
    "string_NA.split(\",\")"
   ]
  },
  {
   "cell_type": "code",
   "execution_count": 72,
   "id": "d3064ce2",
   "metadata": {},
   "outputs": [],
   "source": [
    "rock_bnd={\"ACDC\", \"Metallica\", \"Megadeth\",\"AliceC\"}"
   ]
  },
  {
   "cell_type": "code",
   "execution_count": 73,
   "id": "4c3b4af8",
   "metadata": {},
   "outputs": [],
   "source": [
    "rock_bnd.add(\"Sepultura\")"
   ]
  },
  {
   "cell_type": "code",
   "execution_count": 74,
   "id": "86301016",
   "metadata": {},
   "outputs": [
    {
     "data": {
      "text/plain": [
       "{'ACDC', 'AliceC', 'Megadeth', 'Metallica', 'Sepultura'}"
      ]
     },
     "execution_count": 74,
     "metadata": {},
     "output_type": "execute_result"
    }
   ],
   "source": [
    "rock_bnd"
   ]
  },
  {
   "cell_type": "code",
   "execution_count": 75,
   "id": "0ef0571e",
   "metadata": {},
   "outputs": [],
   "source": [
    "pop_bnd={\"BSB\",\"NSYNC\"}"
   ]
  },
  {
   "cell_type": "code",
   "execution_count": 76,
   "id": "6f2137e1",
   "metadata": {},
   "outputs": [
    {
     "data": {
      "text/plain": [
       "{'ACDC', 'AliceC', 'BSB', 'Megadeth', 'Metallica', 'NSYNC', 'Sepultura'}"
      ]
     },
     "execution_count": 76,
     "metadata": {},
     "output_type": "execute_result"
    }
   ],
   "source": [
    "bands=rock_bnd.union(pop_bnd)\n",
    "bands"
   ]
  },
  {
   "cell_type": "code",
   "execution_count": 78,
   "id": "b9a65240",
   "metadata": {},
   "outputs": [
    {
     "data": {
      "text/plain": [
       "1"
      ]
     },
     "execution_count": 78,
     "metadata": {},
     "output_type": "execute_result"
    }
   ],
   "source": [
    "D = {'a':0,'b':1,'c':2}\n",
    "D['b']"
   ]
  },
  {
   "cell_type": "code",
   "execution_count": 79,
   "id": "8e4a0144",
   "metadata": {},
   "outputs": [
    {
     "name": "stdout",
     "output_type": "stream",
     "text": [
      "you cannot enter\n"
     ]
    }
   ],
   "source": [
    "age=17\n",
    "if(age>18):\n",
    "    print(\"you can enter\")\n",
    "print(\"you cannot enter\")"
   ]
  },
  {
   "cell_type": "code",
   "execution_count": 81,
   "id": "9d6cef1f",
   "metadata": {},
   "outputs": [
    {
     "name": "stdout",
     "output_type": "stream",
     "text": [
      "This is a.\n"
     ]
    }
   ],
   "source": [
    "x='a'\n",
    "\n",
    "if(x!='a'):\n",
    "\n",
    "    print(\"This is not a.\")\n",
    "\n",
    "else:\n",
    "\n",
    "    print(\"This is a.\")"
   ]
  },
  {
   "cell_type": "code",
   "execution_count": 83,
   "id": "33e97cf6",
   "metadata": {},
   "outputs": [
    {
     "name": "stdout",
     "output_type": "stream",
     "text": [
      "3\n",
      "4\n",
      "5\n"
     ]
    }
   ],
   "source": [
    "A=[3,4,5]\n",
    "\n",
    "for a in A:\n",
    "\n",
    "    print(a)"
   ]
  },
  {
   "cell_type": "code",
   "execution_count": 85,
   "id": "b0f1d311",
   "metadata": {},
   "outputs": [
    {
     "data": {
      "text/plain": [
       "11"
      ]
     },
     "execution_count": 85,
     "metadata": {},
     "output_type": "execute_result"
    }
   ],
   "source": [
    "a=1\n",
    "\n",
    "def add(b):\n",
    "\n",
    "    return a+b\n",
    "\n",
    "c=add(10)\n",
    "c"
   ]
  },
  {
   "cell_type": "code",
   "execution_count": 88,
   "id": "773d7abd",
   "metadata": {},
   "outputs": [],
   "source": [
    "def f(*y):\n",
    "    return sum(y)"
   ]
  },
  {
   "cell_type": "code",
   "execution_count": 95,
   "id": "40865308",
   "metadata": {},
   "outputs": [],
   "source": [
    "res=f(2,1,1,1,1,1)"
   ]
  },
  {
   "cell_type": "code",
   "execution_count": 96,
   "id": "ea10eefc",
   "metadata": {},
   "outputs": [
    {
     "data": {
      "text/plain": [
       "7"
      ]
     },
     "execution_count": 96,
     "metadata": {},
     "output_type": "execute_result"
    }
   ],
   "source": [
    "res"
   ]
  },
  {
   "cell_type": "code",
   "execution_count": 115,
   "id": "d638e4c6",
   "metadata": {},
   "outputs": [],
   "source": [
    "\n",
    "class Circle(object):\n",
    "\n",
    "    def __init__(self, radius,color):\n",
    "        self.radius=radius;\n",
    "        self.color=color;\n",
    "        \n",
    "    def add_radius(self,r):\n",
    "        self.radius=self.radius+r\n",
    "        \n"
   ]
  },
  {
   "cell_type": "code",
   "execution_count": 116,
   "id": "44364aec",
   "metadata": {},
   "outputs": [],
   "source": [
    "RedC1=Circle(2,\"red\")"
   ]
  },
  {
   "cell_type": "code",
   "execution_count": 117,
   "id": "4691fbb9",
   "metadata": {},
   "outputs": [
    {
     "data": {
      "text/plain": [
       "2"
      ]
     },
     "execution_count": 117,
     "metadata": {},
     "output_type": "execute_result"
    }
   ],
   "source": [
    "RedC1.radius"
   ]
  },
  {
   "cell_type": "code",
   "execution_count": 118,
   "id": "10b924ce",
   "metadata": {},
   "outputs": [
    {
     "data": {
      "text/plain": [
       "'red'"
      ]
     },
     "execution_count": 118,
     "metadata": {},
     "output_type": "execute_result"
    }
   ],
   "source": [
    "RedC1.color"
   ]
  },
  {
   "cell_type": "code",
   "execution_count": 120,
   "id": "23ff6fc9",
   "metadata": {},
   "outputs": [
    {
     "name": "stdout",
     "output_type": "stream",
     "text": [
      "11\n",
      "22\n",
      "33\n"
     ]
    }
   ],
   "source": [
    "A = ['1','2','3']\n",
    "\n",
    "for a in A:\n",
    "\n",
    "    print(2*a)"
   ]
  },
  {
   "cell_type": "code",
   "execution_count": 121,
   "id": "641bb2e4",
   "metadata": {},
   "outputs": [],
   "source": [
    "B=[1,3,2,4]"
   ]
  },
  {
   "cell_type": "code",
   "execution_count": 122,
   "id": "131c4b3e",
   "metadata": {},
   "outputs": [],
   "source": [
    "B.sort()"
   ]
  },
  {
   "cell_type": "code",
   "execution_count": 123,
   "id": "93091082",
   "metadata": {},
   "outputs": [
    {
     "data": {
      "text/plain": [
       "[1, 2, 3, 4]"
      ]
     },
     "execution_count": 123,
     "metadata": {},
     "output_type": "execute_result"
    }
   ],
   "source": [
    "B"
   ]
  },
  {
   "cell_type": "code",
   "execution_count": null,
   "id": "836027e4",
   "metadata": {},
   "outputs": [],
   "source": []
  }
 ],
 "metadata": {
  "kernelspec": {
   "display_name": "Python 3",
   "language": "python",
   "name": "python3"
  },
  "language_info": {
   "codemirror_mode": {
    "name": "ipython",
    "version": 3
   },
   "file_extension": ".py",
   "mimetype": "text/x-python",
   "name": "python",
   "nbconvert_exporter": "python",
   "pygments_lexer": "ipython3",
   "version": "3.8.8"
  }
 },
 "nbformat": 4,
 "nbformat_minor": 5
}
