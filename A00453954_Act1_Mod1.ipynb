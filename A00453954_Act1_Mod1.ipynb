{
  "cells": [
    {
      "cell_type": "markdown",
      "metadata": {
        "id": "view-in-github",
        "colab_type": "text"
      },
      "source": [
        "<a href=\"https://colab.research.google.com/github/PosgradoMNA/actividades-de-aprendizaje-A00453954/blob/main/A00453954_Act1_Mod1.ipynb\" target=\"_parent\"><img src=\"https://colab.research.google.com/assets/colab-badge.svg\" alt=\"Open In Colab\"/></a>"
      ]
    },
    {
      "cell_type": "code",
      "execution_count": null,
      "id": "2c4bae65",
      "metadata": {
        "id": "2c4bae65",
        "outputId": "42030a3e-adfe-4a97-a23e-9f00d42cfbe2"
      },
      "outputs": [
        {
          "name": "stdout",
          "output_type": "stream",
          "text": [
            "HELLO PYTHON 101\n"
          ]
        }
      ],
      "source": [
        "#WILL PRINT \"MESSAGE\"\n",
        "print(\"HELLO PYTHON 101\")"
      ]
    },
    {
      "cell_type": "code",
      "execution_count": null,
      "id": "d75f2feb",
      "metadata": {
        "id": "d75f2feb",
        "outputId": "e92c2911-8dbd-432a-fcd7-090c7f8df4ee"
      },
      "outputs": [
        {
          "name": "stdout",
          "output_type": "stream",
          "text": [
            "HELLO \n",
            " PYTHON 101\n"
          ]
        }
      ],
      "source": [
        "print(\"HELLO \\n PYTHON 101\")"
      ]
    },
    {
      "cell_type": "code",
      "execution_count": null,
      "id": "a2218fc5",
      "metadata": {
        "id": "a2218fc5",
        "outputId": "79cc5734-d7f1-4538-874e-2c408f10770f"
      },
      "outputs": [
        {
          "data": {
            "text/plain": [
              "1"
            ]
          },
          "execution_count": 3,
          "metadata": {},
          "output_type": "execute_result"
        }
      ],
      "source": [
        "int(1.0)"
      ]
    },
    {
      "cell_type": "code",
      "execution_count": null,
      "id": "ccb556b7",
      "metadata": {
        "scrolled": true,
        "id": "ccb556b7",
        "outputId": "3741e43a-9ac2-4187-c5c4-26de725c2a71"
      },
      "outputs": [
        {
          "data": {
            "text/plain": [
              "True"
            ]
          },
          "execution_count": 4,
          "metadata": {},
          "output_type": "execute_result"
        }
      ],
      "source": [
        "bool(1)"
      ]
    },
    {
      "cell_type": "code",
      "execution_count": null,
      "id": "9c0d84fe",
      "metadata": {
        "scrolled": false,
        "id": "9c0d84fe",
        "outputId": "9a76342c-460a-41f2-c134-ef9139c342b3"
      },
      "outputs": [
        {
          "data": {
            "text/plain": [
              "115"
            ]
          },
          "execution_count": 7,
          "metadata": {},
          "output_type": "execute_result"
        }
      ],
      "source": [
        "40+60+15"
      ]
    },
    {
      "cell_type": "code",
      "execution_count": null,
      "id": "6fa22f2d",
      "metadata": {
        "id": "6fa22f2d",
        "outputId": "1be45885-a2ac-4e82-f267-b726b8883f84"
      },
      "outputs": [
        {
          "data": {
            "text/plain": [
              "25"
            ]
          },
          "execution_count": 8,
          "metadata": {},
          "output_type": "execute_result"
        }
      ],
      "source": [
        "5*5"
      ]
    },
    {
      "cell_type": "code",
      "execution_count": null,
      "id": "e0e77ef9",
      "metadata": {
        "id": "e0e77ef9",
        "outputId": "c020105e-094b-4aab-cb91-76a100d828fd"
      },
      "outputs": [
        {
          "data": {
            "text/plain": [
              "8.333333333333334"
            ]
          },
          "execution_count": 9,
          "metadata": {},
          "output_type": "execute_result"
        }
      ],
      "source": [
        "25/3"
      ]
    },
    {
      "cell_type": "code",
      "execution_count": null,
      "id": "2d65e4cd",
      "metadata": {
        "id": "2d65e4cd",
        "outputId": "02ef0869-bc05-4fa9-d423-8e95d051b922"
      },
      "outputs": [
        {
          "data": {
            "text/plain": [
              "8"
            ]
          },
          "execution_count": 10,
          "metadata": {},
          "output_type": "execute_result"
        }
      ],
      "source": [
        "25//3\n"
      ]
    },
    {
      "cell_type": "code",
      "execution_count": null,
      "id": "e3b541c6",
      "metadata": {
        "id": "e3b541c6",
        "outputId": "da24457a-91c4-48c8-8e6b-0e54940a0347"
      },
      "outputs": [
        {
          "data": {
            "text/plain": [
              "260"
            ]
          },
          "execution_count": 11,
          "metadata": {},
          "output_type": "execute_result"
        }
      ],
      "source": [
        "(25*10)+10"
      ]
    },
    {
      "cell_type": "code",
      "execution_count": null,
      "id": "f5f093ec",
      "metadata": {
        "id": "f5f093ec",
        "outputId": "b4d45009-1d25-42d2-bb5a-b65901d083f4"
      },
      "outputs": [
        {
          "data": {
            "text/plain": [
              "500"
            ]
          },
          "execution_count": 12,
          "metadata": {},
          "output_type": "execute_result"
        }
      ],
      "source": [
        "25*(10+10)"
      ]
    },
    {
      "cell_type": "code",
      "execution_count": null,
      "id": "13e5df15",
      "metadata": {
        "id": "13e5df15"
      },
      "outputs": [],
      "source": [
        "my_var=1"
      ]
    },
    {
      "cell_type": "code",
      "execution_count": null,
      "id": "bb19756b",
      "metadata": {
        "id": "bb19756b",
        "outputId": "3abbe9e9-6fb3-4a60-c577-3ae8338e91d8"
      },
      "outputs": [
        {
          "data": {
            "text/plain": [
              "6"
            ]
          },
          "execution_count": 14,
          "metadata": {},
          "output_type": "execute_result"
        }
      ],
      "source": [
        "my_var+5"
      ]
    },
    {
      "cell_type": "code",
      "execution_count": null,
      "id": "a2b6e476",
      "metadata": {
        "id": "a2b6e476",
        "outputId": "27ebb92d-734c-4717-dc4e-ff97bff5613c"
      },
      "outputs": [
        {
          "data": {
            "text/plain": [
              "6"
            ]
          },
          "execution_count": 18,
          "metadata": {},
          "output_type": "execute_result"
        }
      ],
      "source": [
        "my_var+5"
      ]
    },
    {
      "cell_type": "code",
      "execution_count": null,
      "id": "f3b835de",
      "metadata": {
        "id": "f3b835de"
      },
      "outputs": [],
      "source": [
        "total_min=43+42+57"
      ]
    },
    {
      "cell_type": "code",
      "execution_count": null,
      "id": "96b7d57e",
      "metadata": {
        "id": "96b7d57e"
      },
      "outputs": [],
      "source": [
        "total_hr=total_min/60"
      ]
    },
    {
      "cell_type": "code",
      "execution_count": null,
      "id": "8893a57b",
      "metadata": {
        "id": "8893a57b",
        "outputId": "162cd384-0ddf-4f46-b012-baa3e56aff34"
      },
      "outputs": [
        {
          "data": {
            "text/plain": [
              "2.3666666666666667"
            ]
          },
          "execution_count": 21,
          "metadata": {},
          "output_type": "execute_result"
        }
      ],
      "source": [
        "total_hr"
      ]
    },
    {
      "cell_type": "code",
      "execution_count": null,
      "id": "005718d6",
      "metadata": {
        "id": "005718d6"
      },
      "outputs": [],
      "source": [
        "total_min=43+42"
      ]
    },
    {
      "cell_type": "code",
      "execution_count": null,
      "id": "3b1152b1",
      "metadata": {
        "id": "3b1152b1",
        "outputId": "69f7b8de-ae6f-4004-91f3-92ffa20d440f"
      },
      "outputs": [
        {
          "data": {
            "text/plain": [
              "2.3666666666666667"
            ]
          },
          "execution_count": 25,
          "metadata": {},
          "output_type": "execute_result"
        }
      ],
      "source": [
        "total_hr"
      ]
    },
    {
      "cell_type": "code",
      "execution_count": null,
      "id": "6e3e2858",
      "metadata": {
        "id": "6e3e2858"
      },
      "outputs": [],
      "source": [
        "total_hr=total_min/60"
      ]
    },
    {
      "cell_type": "code",
      "execution_count": null,
      "id": "fc2054c0",
      "metadata": {
        "id": "fc2054c0",
        "outputId": "228d4acd-886c-4ce0-d014-3e4216938842"
      },
      "outputs": [
        {
          "data": {
            "text/plain": [
              "1.4166666666666667"
            ]
          },
          "execution_count": 27,
          "metadata": {},
          "output_type": "execute_result"
        }
      ],
      "source": [
        "total_hr"
      ]
    },
    {
      "cell_type": "code",
      "execution_count": null,
      "id": "9625a048",
      "metadata": {
        "id": "9625a048"
      },
      "outputs": [],
      "source": [
        "Numbers = \"0123456\""
      ]
    },
    {
      "cell_type": "code",
      "execution_count": null,
      "id": "8937742e",
      "metadata": {
        "id": "8937742e",
        "outputId": "edc7ebc5-0b2c-4844-c714-6cda9d6805be"
      },
      "outputs": [
        {
          "data": {
            "text/plain": [
              "'0246'"
            ]
          },
          "execution_count": 29,
          "metadata": {},
          "output_type": "execute_result"
        }
      ],
      "source": [
        "Numbers[::2]"
      ]
    },
    {
      "cell_type": "code",
      "execution_count": null,
      "id": "5def83a7",
      "metadata": {
        "id": "5def83a7"
      },
      "outputs": [],
      "source": [
        "First_name= \"Fernando\"\n",
        "Last_name= \"-Rios\""
      ]
    },
    {
      "cell_type": "code",
      "execution_count": null,
      "id": "0e6b5c96",
      "metadata": {
        "id": "0e6b5c96"
      },
      "outputs": [],
      "source": [
        "name= First_name +\" \"+ Last_name"
      ]
    },
    {
      "cell_type": "code",
      "execution_count": null,
      "id": "fcc5b53a",
      "metadata": {
        "id": "fcc5b53a",
        "outputId": "49f3038b-4e94-4326-c5a7-1c5bade13ff8"
      },
      "outputs": [
        {
          "name": "stdout",
          "output_type": "stream",
          "text": [
            "Fernando -Rios\n"
          ]
        }
      ],
      "source": [
        "print(name)"
      ]
    },
    {
      "cell_type": "code",
      "execution_count": null,
      "id": "a39ad203",
      "metadata": {
        "id": "a39ad203",
        "outputId": "8f9cac63-2059-4e6e-a130-bc567b6521fe"
      },
      "outputs": [
        {
          "name": "stdout",
          "output_type": "stream",
          "text": [
            "Fernando\n",
            "-Rios\n"
          ]
        }
      ],
      "source": [
        "print(First_name +\"\\n\"+ Last_name )"
      ]
    },
    {
      "cell_type": "code",
      "execution_count": null,
      "id": "c518da7d",
      "metadata": {
        "id": "c518da7d",
        "outputId": "b46c352e-5e5e-4302-851d-cf134832882a"
      },
      "outputs": [
        {
          "name": "stdout",
          "output_type": "stream",
          "text": [
            "Fernando\t-Rios\n"
          ]
        }
      ],
      "source": [
        "print(First_name +\"\\t\"+ Last_name )"
      ]
    },
    {
      "cell_type": "code",
      "execution_count": null,
      "id": "045385c9",
      "metadata": {
        "id": "045385c9"
      },
      "outputs": [],
      "source": [
        "A=\"Thriller is the sixth sutdio album\""
      ]
    },
    {
      "cell_type": "code",
      "execution_count": null,
      "id": "36ef1670",
      "metadata": {
        "id": "36ef1670"
      },
      "outputs": [],
      "source": [
        "b=A.upper()"
      ]
    },
    {
      "cell_type": "code",
      "execution_count": null,
      "id": "0c50b895",
      "metadata": {
        "id": "0c50b895",
        "outputId": "a84b11fc-fe04-45dc-afef-73d316741550"
      },
      "outputs": [
        {
          "data": {
            "text/plain": [
              "'THRILLER IS THE SIXTH SUTDIO ALBUM'"
            ]
          },
          "execution_count": 42,
          "metadata": {},
          "output_type": "execute_result"
        }
      ],
      "source": [
        "b"
      ]
    },
    {
      "cell_type": "code",
      "execution_count": null,
      "id": "a9fd6fd0",
      "metadata": {
        "id": "a9fd6fd0"
      },
      "outputs": [],
      "source": [
        "string_1=\"encuentra num1 en el string\""
      ]
    },
    {
      "cell_type": "code",
      "execution_count": null,
      "id": "49cecfb6",
      "metadata": {
        "id": "49cecfb6",
        "outputId": "f15aa647-e0b2-439e-b29f-dd68303af20a"
      },
      "outputs": [
        {
          "data": {
            "text/plain": [
              "10"
            ]
          },
          "execution_count": 44,
          "metadata": {},
          "output_type": "execute_result"
        }
      ],
      "source": [
        "string_1.find(\"num1\")"
      ]
    },
    {
      "cell_type": "code",
      "execution_count": null,
      "id": "4a512364",
      "metadata": {
        "id": "4a512364",
        "outputId": "66dad399-d96f-4cf8-b67c-688aff188e46"
      },
      "outputs": [
        {
          "data": {
            "text/plain": [
              "7"
            ]
          },
          "execution_count": 45,
          "metadata": {},
          "output_type": "execute_result"
        }
      ],
      "source": [
        "3+2*2"
      ]
    },
    {
      "cell_type": "code",
      "execution_count": null,
      "id": "47067d62",
      "metadata": {
        "id": "47067d62"
      },
      "outputs": [],
      "source": [
        "name=\"Lizz\""
      ]
    },
    {
      "cell_type": "code",
      "execution_count": null,
      "id": "85bff2a6",
      "metadata": {
        "id": "85bff2a6",
        "outputId": "f3c87784-ba8f-4b88-abe1-5adff4b75a9f"
      },
      "outputs": [
        {
          "name": "stdout",
          "output_type": "stream",
          "text": [
            "Li\n"
          ]
        }
      ],
      "source": [
        "print(name[0:2])"
      ]
    },
    {
      "cell_type": "code",
      "execution_count": null,
      "id": "1acf11af",
      "metadata": {
        "id": "1acf11af"
      },
      "outputs": [],
      "source": [
        "tuple2=(\"disco\",10,1.2,\"rock\",11)"
      ]
    },
    {
      "cell_type": "code",
      "execution_count": null,
      "id": "ac856725",
      "metadata": {
        "id": "ac856725",
        "outputId": "7ef24d6b-a280-46f9-9d35-f063a7284b00"
      },
      "outputs": [
        {
          "data": {
            "text/plain": [
              "('disco', 10, 1.2)"
            ]
          },
          "execution_count": 50,
          "metadata": {},
          "output_type": "execute_result"
        }
      ],
      "source": [
        "tuple2[0:3]"
      ]
    },
    {
      "cell_type": "code",
      "execution_count": null,
      "id": "1580aaa3",
      "metadata": {
        "id": "1580aaa3",
        "outputId": "6b6614ad-013d-4b30-ea10-0a8036a70477"
      },
      "outputs": [
        {
          "data": {
            "text/plain": [
              "(11, 'rock', 1.2, 10, 'disco')"
            ]
          },
          "execution_count": 52,
          "metadata": {},
          "output_type": "execute_result"
        }
      ],
      "source": [
        "tuple2[::-1]"
      ]
    },
    {
      "cell_type": "code",
      "execution_count": null,
      "id": "7a47d904",
      "metadata": {
        "id": "7a47d904"
      },
      "outputs": [],
      "source": [
        "tuple3=(11, 'rock', (1.2, 10), 'disco')"
      ]
    },
    {
      "cell_type": "code",
      "execution_count": null,
      "id": "5d9f5cc8",
      "metadata": {
        "id": "5d9f5cc8",
        "outputId": "929e925c-3464-48d5-f8d0-8c0557cb39ae"
      },
      "outputs": [
        {
          "data": {
            "text/plain": [
              "1.2"
            ]
          },
          "execution_count": 55,
          "metadata": {},
          "output_type": "execute_result"
        }
      ],
      "source": [
        "tuple3[2][0]"
      ]
    },
    {
      "cell_type": "code",
      "execution_count": null,
      "id": "e08ce138",
      "metadata": {
        "id": "e08ce138"
      },
      "outputs": [],
      "source": [
        "list1=[\"JoeBiden\",(1,5),5.78,\"dog\"]"
      ]
    },
    {
      "cell_type": "code",
      "execution_count": null,
      "id": "2b9aa61b",
      "metadata": {
        "id": "2b9aa61b",
        "outputId": "844827c8-1b46-4489-e1f1-0142bd05b5b1"
      },
      "outputs": [
        {
          "data": {
            "text/plain": [
              "[5.78, 'dog']"
            ]
          },
          "execution_count": 57,
          "metadata": {},
          "output_type": "execute_result"
        }
      ],
      "source": [
        "list1[2:]"
      ]
    },
    {
      "cell_type": "code",
      "execution_count": null,
      "id": "7a4f1f69",
      "metadata": {
        "id": "7a4f1f69"
      },
      "outputs": [],
      "source": [
        "list2=[\"Macrone\",(1,5),5.78,\"cat\"]"
      ]
    },
    {
      "cell_type": "code",
      "execution_count": null,
      "id": "36e7352a",
      "metadata": {
        "id": "36e7352a"
      },
      "outputs": [],
      "source": [
        "list3=list1+list2"
      ]
    },
    {
      "cell_type": "code",
      "execution_count": null,
      "id": "8b35dbf7",
      "metadata": {
        "id": "8b35dbf7",
        "outputId": "d3e1c976-6497-41f0-907a-d6b0926752ba"
      },
      "outputs": [
        {
          "data": {
            "text/plain": [
              "['JoeBiden', (1, 5), 5.78, 'dog', 'Macrone', (1, 5), 5.78, 'cat']"
            ]
          },
          "execution_count": 60,
          "metadata": {},
          "output_type": "execute_result"
        }
      ],
      "source": [
        "list3"
      ]
    },
    {
      "cell_type": "code",
      "execution_count": null,
      "id": "bd5861e4",
      "metadata": {
        "id": "bd5861e4",
        "outputId": "1cad02d0-a186-464d-b434-58cb4a340755"
      },
      "outputs": [
        {
          "data": {
            "text/plain": [
              "['JoeBiden',\n",
              " (1, 5),\n",
              " 5.78,\n",
              " 'dog',\n",
              " 'Macrone',\n",
              " (1, 5),\n",
              " 5.78,\n",
              " 'cat',\n",
              " 'horse',\n",
              " 'horse']"
            ]
          },
          "execution_count": 62,
          "metadata": {},
          "output_type": "execute_result"
        }
      ],
      "source": [
        "list3.extend([\"horse\"])\n",
        "list3"
      ]
    },
    {
      "cell_type": "code",
      "execution_count": null,
      "id": "dd9b0662",
      "metadata": {
        "id": "dd9b0662",
        "outputId": "bd3a9331-c42d-4d1c-d236-9681210b2a43"
      },
      "outputs": [
        {
          "data": {
            "text/plain": [
              "['JoeBiden', (1, 5), 5.78, 'dog', 'Macrone', (1, 5)]"
            ]
          },
          "execution_count": 69,
          "metadata": {},
          "output_type": "execute_result"
        }
      ],
      "source": [
        "list3.pop()\n",
        "list3"
      ]
    },
    {
      "cell_type": "code",
      "execution_count": null,
      "id": "07edb504",
      "metadata": {
        "id": "07edb504"
      },
      "outputs": [],
      "source": [
        "string_NA=\"EU,Can,MEX\""
      ]
    },
    {
      "cell_type": "code",
      "execution_count": null,
      "id": "d559c982",
      "metadata": {
        "id": "d559c982",
        "outputId": "c93f1b0f-6da2-409b-be4c-88e5cf87aa33"
      },
      "outputs": [
        {
          "data": {
            "text/plain": [
              "['EU', 'Can', 'MEX']"
            ]
          },
          "execution_count": 71,
          "metadata": {},
          "output_type": "execute_result"
        }
      ],
      "source": [
        "string_NA.split(\",\")"
      ]
    },
    {
      "cell_type": "code",
      "execution_count": null,
      "id": "d3064ce2",
      "metadata": {
        "id": "d3064ce2"
      },
      "outputs": [],
      "source": [
        "rock_bnd={\"ACDC\", \"Metallica\", \"Megadeth\",\"AliceC\"}"
      ]
    },
    {
      "cell_type": "code",
      "execution_count": null,
      "id": "4c3b4af8",
      "metadata": {
        "id": "4c3b4af8"
      },
      "outputs": [],
      "source": [
        "rock_bnd.add(\"Sepultura\")"
      ]
    },
    {
      "cell_type": "code",
      "execution_count": null,
      "id": "86301016",
      "metadata": {
        "id": "86301016",
        "outputId": "61acbc8f-fd3c-4caa-aa92-5d3e7c43a094"
      },
      "outputs": [
        {
          "data": {
            "text/plain": [
              "{'ACDC', 'AliceC', 'Megadeth', 'Metallica', 'Sepultura'}"
            ]
          },
          "execution_count": 74,
          "metadata": {},
          "output_type": "execute_result"
        }
      ],
      "source": [
        "rock_bnd"
      ]
    },
    {
      "cell_type": "code",
      "execution_count": null,
      "id": "0ef0571e",
      "metadata": {
        "id": "0ef0571e"
      },
      "outputs": [],
      "source": [
        "pop_bnd={\"BSB\",\"NSYNC\"}"
      ]
    },
    {
      "cell_type": "code",
      "execution_count": null,
      "id": "6f2137e1",
      "metadata": {
        "id": "6f2137e1",
        "outputId": "82c7acab-7388-4abd-f288-b860954dcc3a"
      },
      "outputs": [
        {
          "data": {
            "text/plain": [
              "{'ACDC', 'AliceC', 'BSB', 'Megadeth', 'Metallica', 'NSYNC', 'Sepultura'}"
            ]
          },
          "execution_count": 76,
          "metadata": {},
          "output_type": "execute_result"
        }
      ],
      "source": [
        "bands=rock_bnd.union(pop_bnd)\n",
        "bands"
      ]
    },
    {
      "cell_type": "code",
      "execution_count": null,
      "id": "b9a65240",
      "metadata": {
        "id": "b9a65240",
        "outputId": "2a60636f-6b8e-495c-ba0b-c928b9f0aac6"
      },
      "outputs": [
        {
          "data": {
            "text/plain": [
              "1"
            ]
          },
          "execution_count": 78,
          "metadata": {},
          "output_type": "execute_result"
        }
      ],
      "source": [
        "D = {'a':0,'b':1,'c':2}\n",
        "D['b']"
      ]
    },
    {
      "cell_type": "code",
      "execution_count": null,
      "id": "8e4a0144",
      "metadata": {
        "id": "8e4a0144",
        "outputId": "3ca335c8-4c35-4f22-8166-4eff934fb097"
      },
      "outputs": [
        {
          "name": "stdout",
          "output_type": "stream",
          "text": [
            "you cannot enter\n"
          ]
        }
      ],
      "source": [
        "age=17\n",
        "if(age>18):\n",
        "    print(\"you can enter\")\n",
        "print(\"you cannot enter\")"
      ]
    },
    {
      "cell_type": "code",
      "execution_count": null,
      "id": "9d6cef1f",
      "metadata": {
        "id": "9d6cef1f",
        "outputId": "66657e80-0b9d-4349-dff0-7a7fb5a42be7"
      },
      "outputs": [
        {
          "name": "stdout",
          "output_type": "stream",
          "text": [
            "This is a.\n"
          ]
        }
      ],
      "source": [
        "x='a'\n",
        "\n",
        "if(x!='a'):\n",
        "\n",
        "    print(\"This is not a.\")\n",
        "\n",
        "else:\n",
        "\n",
        "    print(\"This is a.\")"
      ]
    },
    {
      "cell_type": "code",
      "execution_count": null,
      "id": "33e97cf6",
      "metadata": {
        "id": "33e97cf6",
        "outputId": "addbc3c7-9bfa-4bd2-9950-cd2e50dd32af"
      },
      "outputs": [
        {
          "name": "stdout",
          "output_type": "stream",
          "text": [
            "3\n",
            "4\n",
            "5\n"
          ]
        }
      ],
      "source": [
        "A=[3,4,5]\n",
        "\n",
        "for a in A:\n",
        "\n",
        "    print(a)"
      ]
    },
    {
      "cell_type": "code",
      "execution_count": null,
      "id": "b0f1d311",
      "metadata": {
        "id": "b0f1d311",
        "outputId": "9cd75ec6-609b-424d-c07c-76e335e59878"
      },
      "outputs": [
        {
          "data": {
            "text/plain": [
              "11"
            ]
          },
          "execution_count": 85,
          "metadata": {},
          "output_type": "execute_result"
        }
      ],
      "source": [
        "a=1\n",
        "\n",
        "def add(b):\n",
        "\n",
        "    return a+b\n",
        "\n",
        "c=add(10)\n",
        "c"
      ]
    },
    {
      "cell_type": "code",
      "execution_count": null,
      "id": "773d7abd",
      "metadata": {
        "id": "773d7abd"
      },
      "outputs": [],
      "source": [
        "def f(*y):\n",
        "    return sum(y)"
      ]
    },
    {
      "cell_type": "code",
      "execution_count": null,
      "id": "40865308",
      "metadata": {
        "id": "40865308"
      },
      "outputs": [],
      "source": [
        "res=f(2,1,1,1,1,1)"
      ]
    },
    {
      "cell_type": "code",
      "execution_count": null,
      "id": "ea10eefc",
      "metadata": {
        "id": "ea10eefc",
        "outputId": "8f86525c-0739-4202-bfe6-6bad676b9c7b"
      },
      "outputs": [
        {
          "data": {
            "text/plain": [
              "7"
            ]
          },
          "execution_count": 96,
          "metadata": {},
          "output_type": "execute_result"
        }
      ],
      "source": [
        "res"
      ]
    },
    {
      "cell_type": "code",
      "execution_count": null,
      "id": "d638e4c6",
      "metadata": {
        "id": "d638e4c6"
      },
      "outputs": [],
      "source": [
        "\n",
        "class Circle(object):\n",
        "\n",
        "    def __init__(self, radius,color):\n",
        "        self.radius=radius;\n",
        "        self.color=color;\n",
        "        \n",
        "    def add_radius(self,r):\n",
        "        self.radius=self.radius+r\n",
        "        \n"
      ]
    },
    {
      "cell_type": "code",
      "execution_count": null,
      "id": "44364aec",
      "metadata": {
        "id": "44364aec"
      },
      "outputs": [],
      "source": [
        "RedC1=Circle(2,\"red\")"
      ]
    },
    {
      "cell_type": "code",
      "execution_count": null,
      "id": "4691fbb9",
      "metadata": {
        "id": "4691fbb9",
        "outputId": "ffab035c-9a81-40d6-ce2f-70e26d6f6e52"
      },
      "outputs": [
        {
          "data": {
            "text/plain": [
              "2"
            ]
          },
          "execution_count": 117,
          "metadata": {},
          "output_type": "execute_result"
        }
      ],
      "source": [
        "RedC1.radius"
      ]
    },
    {
      "cell_type": "code",
      "execution_count": null,
      "id": "10b924ce",
      "metadata": {
        "id": "10b924ce",
        "outputId": "99b17c1c-460a-4e9e-cd0a-b98f3724130e"
      },
      "outputs": [
        {
          "data": {
            "text/plain": [
              "'red'"
            ]
          },
          "execution_count": 118,
          "metadata": {},
          "output_type": "execute_result"
        }
      ],
      "source": [
        "RedC1.color"
      ]
    },
    {
      "cell_type": "code",
      "execution_count": null,
      "id": "23ff6fc9",
      "metadata": {
        "id": "23ff6fc9",
        "outputId": "117f9c23-4278-42ad-bfcb-a406cf872c21"
      },
      "outputs": [
        {
          "name": "stdout",
          "output_type": "stream",
          "text": [
            "11\n",
            "22\n",
            "33\n"
          ]
        }
      ],
      "source": [
        "A = ['1','2','3']\n",
        "\n",
        "for a in A:\n",
        "\n",
        "    print(2*a)"
      ]
    },
    {
      "cell_type": "code",
      "execution_count": null,
      "id": "641bb2e4",
      "metadata": {
        "id": "641bb2e4"
      },
      "outputs": [],
      "source": [
        "B=[1,3,2,4]"
      ]
    },
    {
      "cell_type": "code",
      "execution_count": null,
      "id": "131c4b3e",
      "metadata": {
        "id": "131c4b3e"
      },
      "outputs": [],
      "source": [
        "B.sort()"
      ]
    },
    {
      "cell_type": "code",
      "execution_count": null,
      "id": "93091082",
      "metadata": {
        "id": "93091082",
        "outputId": "2533d686-4c6d-4d81-abc4-bb822946b4c1"
      },
      "outputs": [
        {
          "data": {
            "text/plain": [
              "[1, 2, 3, 4]"
            ]
          },
          "execution_count": 123,
          "metadata": {},
          "output_type": "execute_result"
        }
      ],
      "source": [
        "B"
      ]
    },
    {
      "cell_type": "code",
      "execution_count": null,
      "id": "836027e4",
      "metadata": {
        "id": "836027e4"
      },
      "outputs": [],
      "source": []
    }
  ],
  "metadata": {
    "kernelspec": {
      "display_name": "Python 3",
      "language": "python",
      "name": "python3"
    },
    "language_info": {
      "codemirror_mode": {
        "name": "ipython",
        "version": 3
      },
      "file_extension": ".py",
      "mimetype": "text/x-python",
      "name": "python",
      "nbconvert_exporter": "python",
      "pygments_lexer": "ipython3",
      "version": "3.8.8"
    },
    "colab": {
      "provenance": [],
      "include_colab_link": true
    }
  },
  "nbformat": 4,
  "nbformat_minor": 5
}